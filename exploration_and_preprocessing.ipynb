{
 "cells": [
  {
   "cell_type": "code",
   "execution_count": 1,
   "id": "6b81d817",
   "metadata": {},
   "outputs": [],
   "source": [
    "import numpy as np\n",
    "import pandas as pd\n",
    "import matplotlib.pyplot as plt\n",
    "import seaborn as sns"
   ]
  },
  {
   "cell_type": "code",
   "execution_count": 3,
   "id": "7a2379be",
   "metadata": {},
   "outputs": [],
   "source": [
    "import os"
   ]
  },
  {
   "cell_type": "code",
   "execution_count": 4,
   "id": "004c2692",
   "metadata": {},
   "outputs": [],
   "source": [
    "titles = pd.read_csv(r\".\\dataset\\titles.csv\")\n",
    "credits = pd.read_csv(r\".\\dataset\\credits.csv\")"
   ]
  },
  {
   "cell_type": "markdown",
   "id": "2d395203",
   "metadata": {},
   "source": [
    "## \"Titles\" data frame"
   ]
  },
  {
   "cell_type": "code",
   "execution_count": 5,
   "id": "c3e9d844",
   "metadata": {},
   "outputs": [
    {
     "name": "stdout",
     "output_type": "stream",
     "text": [
      "Number of rows (instances):  2825\n",
      "Number of columns (attributes):  15\n"
     ]
    }
   ],
   "source": [
    "# Get the number of rows and columns in the \"titles\" data frame\n",
    "print(\"Number of rows (instances): \", titles.shape[0])\n",
    "print(\"Number of columns (attributes): \", titles.shape[1])"
   ]
  },
  {
   "cell_type": "code",
   "execution_count": 6,
   "id": "d3fd6892",
   "metadata": {
    "scrolled": true
   },
   "outputs": [
    {
     "data": {
      "text/html": [
       "<div>\n",
       "<style scoped>\n",
       "    .dataframe tbody tr th:only-of-type {\n",
       "        vertical-align: middle;\n",
       "    }\n",
       "\n",
       "    .dataframe tbody tr th {\n",
       "        vertical-align: top;\n",
       "    }\n",
       "\n",
       "    .dataframe thead th {\n",
       "        text-align: right;\n",
       "    }\n",
       "</style>\n",
       "<table border=\"1\" class=\"dataframe\">\n",
       "  <thead>\n",
       "    <tr style=\"text-align: right;\">\n",
       "      <th></th>\n",
       "      <th>id</th>\n",
       "      <th>title</th>\n",
       "      <th>type</th>\n",
       "      <th>description</th>\n",
       "      <th>release_year</th>\n",
       "      <th>age_certification</th>\n",
       "      <th>runtime</th>\n",
       "      <th>genres</th>\n",
       "      <th>production_countries</th>\n",
       "      <th>seasons</th>\n",
       "      <th>imdb_id</th>\n",
       "      <th>imdb_score</th>\n",
       "      <th>imdb_votes</th>\n",
       "      <th>tmdb_popularity</th>\n",
       "      <th>tmdb_score</th>\n",
       "    </tr>\n",
       "  </thead>\n",
       "  <tbody>\n",
       "    <tr>\n",
       "      <th>0</th>\n",
       "      <td>tm19248</td>\n",
       "      <td>The General</td>\n",
       "      <td>MOVIE</td>\n",
       "      <td>During America’s Civil War, Union spies steal ...</td>\n",
       "      <td>1926</td>\n",
       "      <td>NaN</td>\n",
       "      <td>78</td>\n",
       "      <td>['action', 'drama', 'war', 'western', 'comedy'...</td>\n",
       "      <td>['US']</td>\n",
       "      <td>NaN</td>\n",
       "      <td>tt0017925</td>\n",
       "      <td>8.2</td>\n",
       "      <td>89766.0</td>\n",
       "      <td>8.647</td>\n",
       "      <td>8.0</td>\n",
       "    </tr>\n",
       "    <tr>\n",
       "      <th>1</th>\n",
       "      <td>tm83884</td>\n",
       "      <td>His Girl Friday</td>\n",
       "      <td>MOVIE</td>\n",
       "      <td>Hildy, the journalist former wife of newspaper...</td>\n",
       "      <td>1940</td>\n",
       "      <td>NaN</td>\n",
       "      <td>92</td>\n",
       "      <td>['comedy', 'drama', 'romance']</td>\n",
       "      <td>['US']</td>\n",
       "      <td>NaN</td>\n",
       "      <td>tt0032599</td>\n",
       "      <td>7.8</td>\n",
       "      <td>57835.0</td>\n",
       "      <td>11.270</td>\n",
       "      <td>7.4</td>\n",
       "    </tr>\n",
       "    <tr>\n",
       "      <th>2</th>\n",
       "      <td>tm19424</td>\n",
       "      <td>Detour</td>\n",
       "      <td>MOVIE</td>\n",
       "      <td>The life of Al Roberts, a pianist in a New Yor...</td>\n",
       "      <td>1945</td>\n",
       "      <td>NaN</td>\n",
       "      <td>66</td>\n",
       "      <td>['thriller', 'drama', 'crime']</td>\n",
       "      <td>['US']</td>\n",
       "      <td>NaN</td>\n",
       "      <td>tt0037638</td>\n",
       "      <td>7.3</td>\n",
       "      <td>17233.0</td>\n",
       "      <td>7.757</td>\n",
       "      <td>7.2</td>\n",
       "    </tr>\n",
       "    <tr>\n",
       "      <th>3</th>\n",
       "      <td>tm112005</td>\n",
       "      <td>Marihuana</td>\n",
       "      <td>MOVIE</td>\n",
       "      <td>A young girl named Burma attends a beach party...</td>\n",
       "      <td>1936</td>\n",
       "      <td>NaN</td>\n",
       "      <td>57</td>\n",
       "      <td>['crime', 'drama']</td>\n",
       "      <td>['US']</td>\n",
       "      <td>NaN</td>\n",
       "      <td>tt0026683</td>\n",
       "      <td>4.0</td>\n",
       "      <td>864.0</td>\n",
       "      <td>3.748</td>\n",
       "      <td>3.6</td>\n",
       "    </tr>\n",
       "    <tr>\n",
       "      <th>4</th>\n",
       "      <td>tm22806</td>\n",
       "      <td>Intolerance: Love's Struggle Throughout the Ages</td>\n",
       "      <td>MOVIE</td>\n",
       "      <td>The story of a poor young woman, separated by ...</td>\n",
       "      <td>1916</td>\n",
       "      <td>NaN</td>\n",
       "      <td>197</td>\n",
       "      <td>['history', 'drama']</td>\n",
       "      <td>['US']</td>\n",
       "      <td>NaN</td>\n",
       "      <td>tt0006864</td>\n",
       "      <td>7.7</td>\n",
       "      <td>15242.0</td>\n",
       "      <td>9.412</td>\n",
       "      <td>7.2</td>\n",
       "    </tr>\n",
       "  </tbody>\n",
       "</table>\n",
       "</div>"
      ],
      "text/plain": [
       "         id                                             title   type   \n",
       "0   tm19248                                       The General  MOVIE  \\\n",
       "1   tm83884                                   His Girl Friday  MOVIE   \n",
       "2   tm19424                                            Detour  MOVIE   \n",
       "3  tm112005                                         Marihuana  MOVIE   \n",
       "4   tm22806  Intolerance: Love's Struggle Throughout the Ages  MOVIE   \n",
       "\n",
       "                                         description  release_year   \n",
       "0  During America’s Civil War, Union spies steal ...          1926  \\\n",
       "1  Hildy, the journalist former wife of newspaper...          1940   \n",
       "2  The life of Al Roberts, a pianist in a New Yor...          1945   \n",
       "3  A young girl named Burma attends a beach party...          1936   \n",
       "4  The story of a poor young woman, separated by ...          1916   \n",
       "\n",
       "  age_certification  runtime   \n",
       "0               NaN       78  \\\n",
       "1               NaN       92   \n",
       "2               NaN       66   \n",
       "3               NaN       57   \n",
       "4               NaN      197   \n",
       "\n",
       "                                              genres production_countries   \n",
       "0  ['action', 'drama', 'war', 'western', 'comedy'...               ['US']  \\\n",
       "1                     ['comedy', 'drama', 'romance']               ['US']   \n",
       "2                     ['thriller', 'drama', 'crime']               ['US']   \n",
       "3                                 ['crime', 'drama']               ['US']   \n",
       "4                               ['history', 'drama']               ['US']   \n",
       "\n",
       "   seasons    imdb_id  imdb_score  imdb_votes  tmdb_popularity  tmdb_score  \n",
       "0      NaN  tt0017925         8.2     89766.0            8.647         8.0  \n",
       "1      NaN  tt0032599         7.8     57835.0           11.270         7.4  \n",
       "2      NaN  tt0037638         7.3     17233.0            7.757         7.2  \n",
       "3      NaN  tt0026683         4.0       864.0            3.748         3.6  \n",
       "4      NaN  tt0006864         7.7     15242.0            9.412         7.2  "
      ]
     },
     "execution_count": 6,
     "metadata": {},
     "output_type": "execute_result"
    }
   ],
   "source": [
    "# Will show the first few rows of the data frame\n",
    "titles.head()"
   ]
  },
  {
   "cell_type": "markdown",
   "id": "ca0b3e8c",
   "metadata": {},
   "source": [
    "### About the dataset: Instances and Attributes\n",
    "\n",
    "This dataset contains 2825 unique titles on Paramount with 15 columns containing their information, including:\n",
    "\n",
    "- id: The title ID on JustWatch.\n",
    "- title: The name of the title.\n",
    "- show_type: TV show or movie.\n",
    "- description: A brief description.\n",
    "- release_year: The release year.\n",
    "- age_certification: The age certification.\n",
    "- runtime: The length of the episode (SHOW) or movie.\n",
    "- genres: A list of genres.\n",
    "- production_countries: A list of countries that produced the title.\n",
    "- seasons: Number of seasons if it's a SHOW.\n",
    "- imdb_id: The title ID on IMDB.\n",
    "- imdb_score: Score on IMDB.\n",
    "- imdb_votes: Votes on IMDB.\n",
    "- tmdb_popularity: Popularity on TMDB.\n",
    "- tmdb_score: Score on TMDB."
   ]
  },
  {
   "cell_type": "code",
   "execution_count": 8,
   "id": "88b1261b",
   "metadata": {},
   "outputs": [
    {
     "name": "stdout",
     "output_type": "stream",
     "text": [
      "<class 'pandas.core.frame.DataFrame'>\n",
      "RangeIndex: 2825 entries, 0 to 2824\n",
      "Data columns (total 15 columns):\n",
      " #   Column                Non-Null Count  Dtype  \n",
      "---  ------                --------------  -----  \n",
      " 0   id                    2825 non-null   object \n",
      " 1   title                 2825 non-null   object \n",
      " 2   type                  2825 non-null   object \n",
      " 3   description           2812 non-null   object \n",
      " 4   release_year          2825 non-null   int64  \n",
      " 5   age_certification     1302 non-null   object \n",
      " 6   runtime               2825 non-null   int64  \n",
      " 7   genres                2825 non-null   object \n",
      " 8   production_countries  2825 non-null   object \n",
      " 9   seasons               626 non-null    float64\n",
      " 10  imdb_id               2666 non-null   object \n",
      " 11  imdb_score            2613 non-null   float64\n",
      " 12  imdb_votes            2613 non-null   float64\n",
      " 13  tmdb_popularity       2768 non-null   float64\n",
      " 14  tmdb_score            2337 non-null   float64\n",
      "dtypes: float64(5), int64(2), object(8)\n",
      "memory usage: 331.2+ KB\n"
     ]
    }
   ],
   "source": [
    "# Getting the information about the DataFrame, including column names, data types, and non-null counts\n",
    "titles.info()"
   ]
  },
  {
   "cell_type": "markdown",
   "id": "ae696185",
   "metadata": {},
   "source": [
    "### Data Analysis"
   ]
  },
  {
   "cell_type": "code",
   "execution_count": 9,
   "id": "f9ebb858",
   "metadata": {
    "scrolled": true
   },
   "outputs": [
    {
     "name": "stdout",
     "output_type": "stream",
     "text": [
      "All of the release years:\n",
      " [1912 1914 1915 1916 1917 1918 1919 1920 1921 1922 1923 1924 1925 1926\n",
      " 1927 1928 1929 1930 1931 1932 1933 1934 1935 1936 1937 1938 1939 1940\n",
      " 1941 1942 1943 1944 1945 1946 1947 1948 1949 1950 1951 1952 1953 1954\n",
      " 1955 1956 1957 1958 1959 1960 1961 1962 1963 1964 1965 1966 1967 1968\n",
      " 1969 1970 1971 1972 1973 1974 1975 1976 1977 1978 1979 1980 1981 1982\n",
      " 1983 1984 1985 1986 1987 1988 1989 1990 1991 1992 1993 1994 1995 1996\n",
      " 1997 1998 1999 2000 2001 2002 2003 2004 2005 2006 2007 2008 2009 2010\n",
      " 2011 2012 2013 2014 2015 2016 2017 2018 2019 2020 2021 2022]\n",
      "Number of release years:\n",
      " 110\n"
     ]
    }
   ],
   "source": [
    "# Checking unique values in numerical columns\n",
    "\n",
    "print(\"All of the release years:\\n\", np.sort(titles['release_year'].unique()))\n",
    "print(\"Number of release years:\\n\", titles['release_year'].unique().size)\n"
   ]
  },
  {
   "cell_type": "code",
   "execution_count": 10,
   "id": "954c067f",
   "metadata": {
    "scrolled": false
   },
   "outputs": [
    {
     "name": "stdout",
     "output_type": "stream",
     "text": [
      "All of the possible season lengths:\n",
      " [ 1.  2.  3.  4.  5.  6.  7.  8.  9. 10. 11. 12. 13. 14. 15. 16. 17. 19.\n",
      " 20. 21. 22. 23. 26. 27. 33. 34. 37. 42. 45. 49. nan]\n",
      "Number of possible season lengths:\n",
      " 31\n"
     ]
    }
   ],
   "source": [
    "print(\"All of the possible season lengths:\\n\", np.sort(titles['seasons'].unique()))\n",
    "print(\"Number of possible season lengths:\\n\", titles['seasons'].unique().size)"
   ]
  },
  {
   "cell_type": "code",
   "execution_count": 11,
   "id": "fa94fdd4",
   "metadata": {},
   "outputs": [
    {
     "data": {
      "text/html": [
       "<div>\n",
       "<style scoped>\n",
       "    .dataframe tbody tr th:only-of-type {\n",
       "        vertical-align: middle;\n",
       "    }\n",
       "\n",
       "    .dataframe tbody tr th {\n",
       "        vertical-align: top;\n",
       "    }\n",
       "\n",
       "    .dataframe thead th {\n",
       "        text-align: right;\n",
       "    }\n",
       "</style>\n",
       "<table border=\"1\" class=\"dataframe\">\n",
       "  <thead>\n",
       "    <tr style=\"text-align: right;\">\n",
       "      <th></th>\n",
       "      <th>Attribute</th>\n",
       "      <th>Mean</th>\n",
       "      <th>Median</th>\n",
       "      <th>Mode</th>\n",
       "    </tr>\n",
       "  </thead>\n",
       "  <tbody>\n",
       "    <tr>\n",
       "      <th>0</th>\n",
       "      <td>imdb_score</td>\n",
       "      <td>6.042863</td>\n",
       "      <td>6.1000</td>\n",
       "      <td>5.6</td>\n",
       "    </tr>\n",
       "    <tr>\n",
       "      <th>1</th>\n",
       "      <td>imdb_votes</td>\n",
       "      <td>22238.755454</td>\n",
       "      <td>548.0000</td>\n",
       "      <td>10.0</td>\n",
       "    </tr>\n",
       "    <tr>\n",
       "      <th>2</th>\n",
       "      <td>tmdb_popularity</td>\n",
       "      <td>13.043838</td>\n",
       "      <td>2.6205</td>\n",
       "      <td>0.6</td>\n",
       "    </tr>\n",
       "    <tr>\n",
       "      <th>3</th>\n",
       "      <td>tmdb_score</td>\n",
       "      <td>6.045528</td>\n",
       "      <td>6.1000</td>\n",
       "      <td>6.0</td>\n",
       "    </tr>\n",
       "  </tbody>\n",
       "</table>\n",
       "</div>"
      ],
      "text/plain": [
       "         Attribute          Mean    Median  Mode\n",
       "0       imdb_score      6.042863    6.1000   5.6\n",
       "1       imdb_votes  22238.755454  548.0000  10.0\n",
       "2  tmdb_popularity     13.043838    2.6205   0.6\n",
       "3       tmdb_score      6.045528    6.1000   6.0"
      ]
     },
     "execution_count": 11,
     "metadata": {},
     "output_type": "execute_result"
    }
   ],
   "source": [
    "# We can check what the mean, median and mode are for \n",
    "# - imdb_score\n",
    "# - imdb_votes\n",
    "# - tmdb_popularity\n",
    "# - tmdb_score \n",
    "# are \n",
    "\n",
    "# I took this code from chatGPT by asking it to help me turn a bunch of print commands into a table \n",
    "\n",
    "statistics = {\n",
    "    'Attribute': ['imdb_score', 'imdb_votes', 'tmdb_popularity', 'tmdb_score'],\n",
    "    'Mean': [titles['imdb_score'].mean(), titles['imdb_votes'].mean(), titles['tmdb_popularity'].mean(), titles['tmdb_score'].mean()],\n",
    "    'Median': [titles['imdb_score'].median(), titles['imdb_votes'].median(), titles['tmdb_popularity'].median(), titles['tmdb_score'].median()],\n",
    "    'Mode': [titles['imdb_score'].mode()[0], titles['imdb_votes'].mode()[0], titles['tmdb_popularity'].mode()[0], titles['tmdb_score'].mode()[0]]\n",
    "}\n",
    "\n",
    "df = pd.DataFrame(statistics)\n",
    "df"
   ]
  },
  {
   "cell_type": "code",
   "execution_count": 12,
   "id": "4655814b",
   "metadata": {},
   "outputs": [
    {
     "name": "stdout",
     "output_type": "stream",
     "text": [
      "Correlation between imdb_score and tmdb_score: \n"
     ]
    },
    {
     "data": {
      "text/html": [
       "<div>\n",
       "<style scoped>\n",
       "    .dataframe tbody tr th:only-of-type {\n",
       "        vertical-align: middle;\n",
       "    }\n",
       "\n",
       "    .dataframe tbody tr th {\n",
       "        vertical-align: top;\n",
       "    }\n",
       "\n",
       "    .dataframe thead th {\n",
       "        text-align: right;\n",
       "    }\n",
       "</style>\n",
       "<table border=\"1\" class=\"dataframe\">\n",
       "  <thead>\n",
       "    <tr style=\"text-align: right;\">\n",
       "      <th></th>\n",
       "      <th>imdb_score</th>\n",
       "      <th>tmdb_score</th>\n",
       "    </tr>\n",
       "  </thead>\n",
       "  <tbody>\n",
       "    <tr>\n",
       "      <th>imdb_score</th>\n",
       "      <td>1.000000</td>\n",
       "      <td>0.582808</td>\n",
       "    </tr>\n",
       "    <tr>\n",
       "      <th>tmdb_score</th>\n",
       "      <td>0.582808</td>\n",
       "      <td>1.000000</td>\n",
       "    </tr>\n",
       "  </tbody>\n",
       "</table>\n",
       "</div>"
      ],
      "text/plain": [
       "            imdb_score  tmdb_score\n",
       "imdb_score    1.000000    0.582808\n",
       "tmdb_score    0.582808    1.000000"
      ]
     },
     "execution_count": 12,
     "metadata": {},
     "output_type": "execute_result"
    }
   ],
   "source": [
    "# Checking the correlation between imdb_score and tmdb_score\n",
    "correlation = titles[['imdb_score', 'tmdb_score']].corr()\n",
    "print(\"Correlation between imdb_score and tmdb_score: \")\n",
    "correlation"
   ]
  },
  {
   "cell_type": "code",
   "execution_count": 13,
   "id": "20937b58",
   "metadata": {},
   "outputs": [
    {
     "data": {
      "image/png": "[encoded data removed]",
      "text/plain": [
       "<Figure size 640x480 with 1 Axes>"
      ]
     },
     "metadata": {},
     "output_type": "display_data"
    }
   ],
   "source": [
    "# Frequency distribution of show type\n",
    "sns.countplot(x='type', data=titles)\n",
    "plt.title('Frequency Distribution of Show Type')\n",
    "plt.show()"
   ]
  },
  {
   "cell_type": "code",
   "execution_count": 36,
   "id": "f290e309",
   "metadata": {},
   "outputs": [],
   "source": [
    "# Here we can see that there are a lot more movies than there are shows in this data set."
   ]
  },
  {
   "cell_type": "code",
   "execution_count": 14,
   "id": "8dc45e59",
   "metadata": {},
   "outputs": [
    {
     "data": {
      "text/html": [
       "<div>\n",
       "<style scoped>\n",
       "    .dataframe tbody tr th:only-of-type {\n",
       "        vertical-align: middle;\n",
       "    }\n",
       "\n",
       "    .dataframe tbody tr th {\n",
       "        vertical-align: top;\n",
       "    }\n",
       "\n",
       "    .dataframe thead th {\n",
       "        text-align: right;\n",
       "    }\n",
       "</style>\n",
       "<table border=\"1\" class=\"dataframe\">\n",
       "  <thead>\n",
       "    <tr style=\"text-align: right;\">\n",
       "      <th>age_certification</th>\n",
       "      <th>G</th>\n",
       "      <th>NC-17</th>\n",
       "      <th>PG</th>\n",
       "      <th>PG-13</th>\n",
       "      <th>R</th>\n",
       "      <th>TV-14</th>\n",
       "      <th>TV-G</th>\n",
       "      <th>TV-MA</th>\n",
       "      <th>TV-PG</th>\n",
       "      <th>TV-Y</th>\n",
       "      <th>TV-Y7</th>\n",
       "    </tr>\n",
       "    <tr>\n",
       "      <th>type</th>\n",
       "      <th></th>\n",
       "      <th></th>\n",
       "      <th></th>\n",
       "      <th></th>\n",
       "      <th></th>\n",
       "      <th></th>\n",
       "      <th></th>\n",
       "      <th></th>\n",
       "      <th></th>\n",
       "      <th></th>\n",
       "      <th></th>\n",
       "    </tr>\n",
       "  </thead>\n",
       "  <tbody>\n",
       "    <tr>\n",
       "      <th>MOVIE</th>\n",
       "      <td>90</td>\n",
       "      <td>3</td>\n",
       "      <td>147</td>\n",
       "      <td>180</td>\n",
       "      <td>321</td>\n",
       "      <td>0</td>\n",
       "      <td>0</td>\n",
       "      <td>0</td>\n",
       "      <td>0</td>\n",
       "      <td>0</td>\n",
       "      <td>0</td>\n",
       "    </tr>\n",
       "    <tr>\n",
       "      <th>SHOW</th>\n",
       "      <td>0</td>\n",
       "      <td>0</td>\n",
       "      <td>0</td>\n",
       "      <td>0</td>\n",
       "      <td>0</td>\n",
       "      <td>165</td>\n",
       "      <td>95</td>\n",
       "      <td>56</td>\n",
       "      <td>143</td>\n",
       "      <td>50</td>\n",
       "      <td>52</td>\n",
       "    </tr>\n",
       "  </tbody>\n",
       "</table>\n",
       "</div>"
      ],
      "text/plain": [
       "age_certification   G  NC-17   PG  PG-13    R  TV-14  TV-G  TV-MA  TV-PG   \n",
       "type                                                                       \n",
       "MOVIE              90      3  147    180  321      0     0      0      0  \\\n",
       "SHOW                0      0    0      0    0    165    95     56    143   \n",
       "\n",
       "age_certification  TV-Y  TV-Y7  \n",
       "type                            \n",
       "MOVIE                 0      0  \n",
       "SHOW                 50     52  "
      ]
     },
     "execution_count": 14,
     "metadata": {},
     "output_type": "execute_result"
    }
   ],
   "source": [
    "# How many movies/shows of a certain age certification are there?\n",
    "cross_tab = pd.crosstab(titles['type'], titles['age_certification'])\n",
    "cross_tab"
   ]
  },
  {
   "cell_type": "code",
   "execution_count": 15,
   "id": "f64b821a",
   "metadata": {},
   "outputs": [
    {
     "data": {
      "text/plain": [
       "<matplotlib.legend.Legend at 0x1c49a0d7310>"
      ]
     },
     "execution_count": 15,
     "metadata": {},
     "output_type": "execute_result"
    },
    {
     "data": {
      "image/png": "[encoded data removed]",
      "text/plain": [
       "<Figure size 640x480 with 1 Axes>"
      ]
     },
     "metadata": {},
     "output_type": "display_data"
    }
   ],
   "source": [
    "# Comparing the ratings of movies and shows\n",
    "\n",
    "# Filter the data for \"MOVIE\" and \"SHOW\" types\n",
    "movies = titles[titles['type'] == 'MOVIE']\n",
    "shows = titles[titles['type'] == 'SHOW']\n",
    "\n",
    "# Create a histogram plot for movie ratings\n",
    "sns.histplot(data=movies, x='imdb_score', label='MOVIE', alpha=0.5)\n",
    "\n",
    "# Create a histogram plot for show ratings\n",
    "sns.histplot(data=shows, x='imdb_score', label='SHOW', alpha=0.5)\n",
    "\n",
    "# Set labels and legend\n",
    "plt.xlabel('IMDb Score')\n",
    "plt.ylabel('Number of instances with a certain rating')\n",
    "plt.legend()"
   ]
  },
  {
   "cell_type": "code",
   "execution_count": 37,
   "id": "0d384a21",
   "metadata": {},
   "outputs": [],
   "source": [
    "# We can see that the shows are generally rated better than the movies (despite there being significantly less shows compared \n",
    "# to the number of movies, there are more shows rated with 7.5 - 9.5)"
   ]
  },
  {
   "cell_type": "code",
   "execution_count": 105,
   "id": "9b54b0be",
   "metadata": {
    "scrolled": false
   },
   "outputs": [
    {
     "data": {
      "image/png": "[encoded data removed]",
      "text/plain": [
       "<Figure size 1000x600 with 1 Axes>"
      ]
     },
     "metadata": {},
     "output_type": "display_data"
    }
   ],
   "source": [
    "# What genres are the most common in the dataset?\n",
    "\n",
    "genres = titles['genres']\n",
    "genres_split = genres.str.split(',')\n",
    "    \n",
    "genres_cleaned = []\n",
    "for genre_list in genres_split:\n",
    "    cleaned_genres = [genre.replace(\"'\", \"\").replace(\"[\", \"\").replace(\"]\", \"\").replace(\" \", \"\") for genre in genre_list]\n",
    "    genres_cleaned.append(cleaned_genres)\n",
    "\n",
    "all_genres = []\n",
    "for genre in genres_cleaned:\n",
    "    for g in genre:\n",
    "         all_genres.append(g)\n",
    "\n",
    "# for g in all_genres:\n",
    "#     print(g)\n",
    "\n",
    "all_genres_series = pd.Series(all_genres)\n",
    "genre_counts = all_genres_series.value_counts()\n",
    "\n",
    "plt.figure(figsize=(10, 6))\n",
    "genre_counts.plot(kind='bar')\n",
    "plt.xlabel('Genre')\n",
    "plt.ylabel('Count')\n",
    "plt.title('Occurrences of Genres in Movies and Shows Dataset')\n",
    "plt.show()"
   ]
  },
  {
   "cell_type": "markdown",
   "id": "a370ecc1",
   "metadata": {},
   "source": [
    "### Data Cleanup"
   ]
  },
  {
   "cell_type": "code",
   "execution_count": 16,
   "id": "97a4c613",
   "metadata": {
    "scrolled": true
   },
   "outputs": [
    {
     "data": {
      "text/plain": [
       "id                         0\n",
       "title                      0\n",
       "type                       0\n",
       "description               13\n",
       "release_year               0\n",
       "age_certification       1523\n",
       "runtime                    0\n",
       "genres                     0\n",
       "production_countries       0\n",
       "seasons                 2199\n",
       "imdb_id                  159\n",
       "imdb_score               212\n",
       "imdb_votes               212\n",
       "tmdb_popularity           57\n",
       "tmdb_score               488\n",
       "dtype: int64"
      ]
     },
     "execution_count": 16,
     "metadata": {},
     "output_type": "execute_result"
    }
   ],
   "source": [
    "titles.isna().sum()"
   ]
  },
  {
   "cell_type": "code",
   "execution_count": 17,
   "id": "d7bec353",
   "metadata": {},
   "outputs": [
    {
     "data": {
      "text/plain": [
       "{'MOVIE', 'SHOW'}"
      ]
     },
     "execution_count": 17,
     "metadata": {},
     "output_type": "execute_result"
    }
   ],
   "source": [
    "# Checking which show types exist so that we can see whether there are any TV shows without a number of seasons \n",
    "# or if it's just movies (which naturally don't have seasons) \n",
    "show_types = set(titles.type)\n",
    "show_types"
   ]
  },
  {
   "cell_type": "code",
   "execution_count": 18,
   "id": "55ec7eb6",
   "metadata": {},
   "outputs": [
    {
     "data": {
      "text/html": [
       "<div>\n",
       "<style scoped>\n",
       "    .dataframe tbody tr th:only-of-type {\n",
       "        vertical-align: middle;\n",
       "    }\n",
       "\n",
       "    .dataframe tbody tr th {\n",
       "        vertical-align: top;\n",
       "    }\n",
       "\n",
       "    .dataframe thead th {\n",
       "        text-align: right;\n",
       "    }\n",
       "</style>\n",
       "<table border=\"1\" class=\"dataframe\">\n",
       "  <thead>\n",
       "    <tr style=\"text-align: right;\">\n",
       "      <th></th>\n",
       "      <th>id</th>\n",
       "      <th>title</th>\n",
       "      <th>type</th>\n",
       "      <th>description</th>\n",
       "      <th>release_year</th>\n",
       "      <th>age_certification</th>\n",
       "      <th>runtime</th>\n",
       "      <th>genres</th>\n",
       "      <th>production_countries</th>\n",
       "      <th>seasons</th>\n",
       "      <th>imdb_id</th>\n",
       "      <th>imdb_score</th>\n",
       "      <th>imdb_votes</th>\n",
       "      <th>tmdb_popularity</th>\n",
       "      <th>tmdb_score</th>\n",
       "    </tr>\n",
       "  </thead>\n",
       "  <tbody>\n",
       "  </tbody>\n",
       "</table>\n",
       "</div>"
      ],
      "text/plain": [
       "Empty DataFrame\n",
       "Columns: [id, title, type, description, release_year, age_certification, runtime, genres, production_countries, seasons, imdb_id, imdb_score, imdb_votes, tmdb_popularity, tmdb_score]\n",
       "Index: []"
      ]
     },
     "execution_count": 18,
     "metadata": {},
     "output_type": "execute_result"
    }
   ],
   "source": [
    "# we conclude that the only instances without seasons are movies\n",
    "tv_show_with_missing_seasons = titles[(titles['type'] == 'SHOW') & titles['seasons'].isnull()]\n",
    "tv_show_with_missing_seasons"
   ]
  },
  {
   "cell_type": "code",
   "execution_count": 19,
   "id": "9b2c67ed",
   "metadata": {},
   "outputs": [],
   "source": [
    "# We simply set the number of seasons for movies to 0 - since movies don't have any seasons.\n",
    "titles.loc[titles[\"seasons\"].isna(), \"seasons\"] = 0.0"
   ]
  },
  {
   "cell_type": "code",
   "execution_count": 20,
   "id": "8a5536a5",
   "metadata": {
    "scrolled": true
   },
   "outputs": [
    {
     "data": {
      "text/plain": [
       "id                         0\n",
       "title                      0\n",
       "type                       0\n",
       "description               13\n",
       "release_year               0\n",
       "age_certification       1523\n",
       "runtime                    0\n",
       "genres                     0\n",
       "production_countries       0\n",
       "seasons                    0\n",
       "imdb_id                  159\n",
       "imdb_score               212\n",
       "imdb_votes               212\n",
       "tmdb_popularity           57\n",
       "tmdb_score               488\n",
       "dtype: int64"
      ]
     },
     "execution_count": 20,
     "metadata": {},
     "output_type": "execute_result"
    }
   ],
   "source": [
    "titles.isna().sum()"
   ]
  },
  {
   "cell_type": "code",
   "execution_count": 21,
   "id": "44d81c9c",
   "metadata": {},
   "outputs": [],
   "source": [
    "# The age certification column is not that interesting to us - we can drop it.\n",
    "titles = titles.drop(columns=[\"age_certification\"])"
   ]
  },
  {
   "cell_type": "code",
   "execution_count": 22,
   "id": "d728af68",
   "metadata": {},
   "outputs": [],
   "source": [
    "# We can also drop the instances without an imdb_id, since there are not a lot of them.\n",
    "titles = titles.dropna(subset=[\"imdb_id\"])"
   ]
  },
  {
   "cell_type": "code",
   "execution_count": 23,
   "id": "f3794cda",
   "metadata": {},
   "outputs": [],
   "source": [
    "# There are only 13 movies without description so we can just drop those instances\n",
    "titles = titles.dropna(subset=[\"description\"])"
   ]
  },
  {
   "cell_type": "code",
   "execution_count": 24,
   "id": "b25aae92",
   "metadata": {},
   "outputs": [
    {
     "data": {
      "image/png": "[encoded data removed]",
      "text/plain": [
       "<Figure size 640x480 with 1 Axes>"
      ]
     },
     "metadata": {},
     "output_type": "display_data"
    }
   ],
   "source": [
    "# We want to compare the IMDB score with the TMDB score and see if there are \n",
    "#significant differences between them:\n",
    "\n",
    "g1 = sns.kdeplot(data = titles, x = 'imdb_score')\n",
    "g2 = sns.kdeplot(data = titles, x = 'tmdb_score')\n"
   ]
  },
  {
   "cell_type": "code",
   "execution_count": 25,
   "id": "8b3ad6de",
   "metadata": {},
   "outputs": [
    {
     "data": {
      "text/html": [
       "<div>\n",
       "<style scoped>\n",
       "    .dataframe tbody tr th:only-of-type {\n",
       "        vertical-align: middle;\n",
       "    }\n",
       "\n",
       "    .dataframe tbody tr th {\n",
       "        vertical-align: top;\n",
       "    }\n",
       "\n",
       "    .dataframe thead th {\n",
       "        text-align: right;\n",
       "    }\n",
       "</style>\n",
       "<table border=\"1\" class=\"dataframe\">\n",
       "  <thead>\n",
       "    <tr style=\"text-align: right;\">\n",
       "      <th></th>\n",
       "      <th>id</th>\n",
       "      <th>title</th>\n",
       "      <th>type</th>\n",
       "      <th>description</th>\n",
       "      <th>release_year</th>\n",
       "      <th>runtime</th>\n",
       "      <th>genres</th>\n",
       "      <th>production_countries</th>\n",
       "      <th>seasons</th>\n",
       "      <th>imdb_id</th>\n",
       "      <th>imdb_score</th>\n",
       "      <th>imdb_votes</th>\n",
       "      <th>tmdb_popularity</th>\n",
       "      <th>tmdb_score</th>\n",
       "    </tr>\n",
       "  </thead>\n",
       "  <tbody>\n",
       "    <tr>\n",
       "      <th>891</th>\n",
       "      <td>tm112348</td>\n",
       "      <td>Rock 'n' Roll Revue</td>\n",
       "      <td>MOVIE</td>\n",
       "      <td>Rock'n Roll Revue is a 1955 American film dire...</td>\n",
       "      <td>1955</td>\n",
       "      <td>69</td>\n",
       "      <td>['music']</td>\n",
       "      <td>['US']</td>\n",
       "      <td>0.0</td>\n",
       "      <td>tt9214742</td>\n",
       "      <td>NaN</td>\n",
       "      <td>NaN</td>\n",
       "      <td>1.491</td>\n",
       "      <td>3.0</td>\n",
       "    </tr>\n",
       "    <tr>\n",
       "      <th>1307</th>\n",
       "      <td>ts645</td>\n",
       "      <td>Comedy Central Roast</td>\n",
       "      <td>SHOW</td>\n",
       "      <td>The Comedy Central Roasts are a series of cele...</td>\n",
       "      <td>2003</td>\n",
       "      <td>66</td>\n",
       "      <td>['comedy']</td>\n",
       "      <td>['US']</td>\n",
       "      <td>1.0</td>\n",
       "      <td>tt15561558</td>\n",
       "      <td>NaN</td>\n",
       "      <td>NaN</td>\n",
       "      <td>4.180</td>\n",
       "      <td>6.4</td>\n",
       "    </tr>\n",
       "    <tr>\n",
       "      <th>1804</th>\n",
       "      <td>tm600139</td>\n",
       "      <td>40 Under 40</td>\n",
       "      <td>MOVIE</td>\n",
       "      <td>Crochet sculptures, a gun embedded in a teapot...</td>\n",
       "      <td>2013</td>\n",
       "      <td>52</td>\n",
       "      <td>['documentation']</td>\n",
       "      <td>['US']</td>\n",
       "      <td>0.0</td>\n",
       "      <td>tt2759766</td>\n",
       "      <td>NaN</td>\n",
       "      <td>NaN</td>\n",
       "      <td>0.600</td>\n",
       "      <td>8.0</td>\n",
       "    </tr>\n",
       "    <tr>\n",
       "      <th>2074</th>\n",
       "      <td>tm213337</td>\n",
       "      <td>Islands of Creation</td>\n",
       "      <td>MOVIE</td>\n",
       "      <td>In the jungles of the Solomon Islands, a remot...</td>\n",
       "      <td>2015</td>\n",
       "      <td>46</td>\n",
       "      <td>['documentation']</td>\n",
       "      <td>['SB', 'US']</td>\n",
       "      <td>0.0</td>\n",
       "      <td>tt15280380</td>\n",
       "      <td>NaN</td>\n",
       "      <td>NaN</td>\n",
       "      <td>0.600</td>\n",
       "      <td>6.5</td>\n",
       "    </tr>\n",
       "    <tr>\n",
       "      <th>2358</th>\n",
       "      <td>ts57114</td>\n",
       "      <td>America's Secret Space Heroes</td>\n",
       "      <td>SHOW</td>\n",
       "      <td>The inside stories of how the unknown engineer...</td>\n",
       "      <td>2017</td>\n",
       "      <td>44</td>\n",
       "      <td>['documentation']</td>\n",
       "      <td>['US']</td>\n",
       "      <td>1.0</td>\n",
       "      <td>tt18936622</td>\n",
       "      <td>NaN</td>\n",
       "      <td>NaN</td>\n",
       "      <td>1.175</td>\n",
       "      <td>7.0</td>\n",
       "    </tr>\n",
       "    <tr>\n",
       "      <th>2429</th>\n",
       "      <td>ts77678</td>\n",
       "      <td>Love &amp; Hip Hop Miami</td>\n",
       "      <td>SHOW</td>\n",
       "      <td>Follow the young, hip-hop elite as they strive...</td>\n",
       "      <td>2018</td>\n",
       "      <td>42</td>\n",
       "      <td>['reality']</td>\n",
       "      <td>['US']</td>\n",
       "      <td>4.0</td>\n",
       "      <td>tt8042954</td>\n",
       "      <td>NaN</td>\n",
       "      <td>NaN</td>\n",
       "      <td>3.865</td>\n",
       "      <td>9.1</td>\n",
       "    </tr>\n",
       "    <tr>\n",
       "      <th>2443</th>\n",
       "      <td>tm900898</td>\n",
       "      <td>Kings of the Desert</td>\n",
       "      <td>MOVIE</td>\n",
       "      <td>\" What counts is the journey not the destinati...</td>\n",
       "      <td>2017</td>\n",
       "      <td>55</td>\n",
       "      <td>['sport', 'action']</td>\n",
       "      <td>['FR']</td>\n",
       "      <td>0.0</td>\n",
       "      <td>tt12245952</td>\n",
       "      <td>NaN</td>\n",
       "      <td>NaN</td>\n",
       "      <td>0.600</td>\n",
       "      <td>8.0</td>\n",
       "    </tr>\n",
       "  </tbody>\n",
       "</table>\n",
       "</div>"
      ],
      "text/plain": [
       "            id                          title   type   \n",
       "891   tm112348            Rock 'n' Roll Revue  MOVIE  \\\n",
       "1307     ts645           Comedy Central Roast   SHOW   \n",
       "1804  tm600139                    40 Under 40  MOVIE   \n",
       "2074  tm213337            Islands of Creation  MOVIE   \n",
       "2358   ts57114  America's Secret Space Heroes   SHOW   \n",
       "2429   ts77678           Love & Hip Hop Miami   SHOW   \n",
       "2443  tm900898            Kings of the Desert  MOVIE   \n",
       "\n",
       "                                            description  release_year   \n",
       "891   Rock'n Roll Revue is a 1955 American film dire...          1955  \\\n",
       "1307  The Comedy Central Roasts are a series of cele...          2003   \n",
       "1804  Crochet sculptures, a gun embedded in a teapot...          2013   \n",
       "2074  In the jungles of the Solomon Islands, a remot...          2015   \n",
       "2358  The inside stories of how the unknown engineer...          2017   \n",
       "2429  Follow the young, hip-hop elite as they strive...          2018   \n",
       "2443  \" What counts is the journey not the destinati...          2017   \n",
       "\n",
       "      runtime               genres production_countries  seasons     imdb_id   \n",
       "891        69            ['music']               ['US']      0.0   tt9214742  \\\n",
       "1307       66           ['comedy']               ['US']      1.0  tt15561558   \n",
       "1804       52    ['documentation']               ['US']      0.0   tt2759766   \n",
       "2074       46    ['documentation']         ['SB', 'US']      0.0  tt15280380   \n",
       "2358       44    ['documentation']               ['US']      1.0  tt18936622   \n",
       "2429       42          ['reality']               ['US']      4.0   tt8042954   \n",
       "2443       55  ['sport', 'action']               ['FR']      0.0  tt12245952   \n",
       "\n",
       "      imdb_score  imdb_votes  tmdb_popularity  tmdb_score  \n",
       "891          NaN         NaN            1.491         3.0  \n",
       "1307         NaN         NaN            4.180         6.4  \n",
       "1804         NaN         NaN            0.600         8.0  \n",
       "2074         NaN         NaN            0.600         6.5  \n",
       "2358         NaN         NaN            1.175         7.0  \n",
       "2429         NaN         NaN            3.865         9.1  \n",
       "2443         NaN         NaN            0.600         8.0  "
      ]
     },
     "execution_count": 25,
     "metadata": {},
     "output_type": "execute_result"
    }
   ],
   "source": [
    "# The distributions are similar. \n",
    "# We have also previously noticed that the correlation between imdb_score and tmdb_score is moderately\n",
    "# strong as well (~0.6)\n",
    "#Let's see if there are any instances that have a TMDB score,\n",
    "# that don't have an IMDB score\n",
    "\n",
    "has_tmdb_no_imdb = titles[(titles['imdb_score'].isnull()) & (titles['tmdb_score'])]\n",
    "has_tmdb_no_imdb"
   ]
  },
  {
   "cell_type": "code",
   "execution_count": 26,
   "id": "a445fee3",
   "metadata": {},
   "outputs": [],
   "source": [
    "# We can assign those TMDB scores to the corresponding IMDB scores and drop the TMDB column, \n",
    "# since we don't need two similar scores.\n",
    "\n",
    "titles.loc[titles[\"imdb_score\"].isna(), \"imdb_score\"] = titles[\"tmdb_score\"]\n",
    "titles = titles.drop(columns=[\"tmdb_score\"])"
   ]
  },
  {
   "cell_type": "code",
   "execution_count": 27,
   "id": "b86659a8",
   "metadata": {},
   "outputs": [],
   "source": [
    "# We can fill out the remaining missing values with mean\n",
    "titles['imdb_score'].fillna(titles['imdb_score'].mean(), inplace=True)\n",
    "titles['imdb_votes'].fillna(titles['imdb_votes'].mean(), inplace=True)\n",
    "titles['tmdb_popularity'].fillna(titles['tmdb_popularity'].mean(), inplace=True)"
   ]
  },
  {
   "cell_type": "markdown",
   "id": "42fe62fc",
   "metadata": {},
   "source": [
    "## \"Credits\" data frame"
   ]
  },
  {
   "cell_type": "code",
   "execution_count": 29,
   "id": "cd58c362",
   "metadata": {},
   "outputs": [
    {
     "name": "stdout",
     "output_type": "stream",
     "text": [
      "Number of rows (instances):  39842\n",
      "Number of columns (attributes):  5\n"
     ]
    }
   ],
   "source": [
    "# Get the number of rows and columns in the \"credits\" data frame\n",
    "print(\"Number of rows (instances): \", credits.shape[0])\n",
    "print(\"Number of columns (attributes): \", credits.shape[1])"
   ]
  },
  {
   "cell_type": "code",
   "execution_count": 31,
   "id": "8133d47f",
   "metadata": {},
   "outputs": [
    {
     "data": {
      "text/html": [
       "<div>\n",
       "<style scoped>\n",
       "    .dataframe tbody tr th:only-of-type {\n",
       "        vertical-align: middle;\n",
       "    }\n",
       "\n",
       "    .dataframe tbody tr th {\n",
       "        vertical-align: top;\n",
       "    }\n",
       "\n",
       "    .dataframe thead th {\n",
       "        text-align: right;\n",
       "    }\n",
       "</style>\n",
       "<table border=\"1\" class=\"dataframe\">\n",
       "  <thead>\n",
       "    <tr style=\"text-align: right;\">\n",
       "      <th></th>\n",
       "      <th>person_id</th>\n",
       "      <th>id</th>\n",
       "      <th>name</th>\n",
       "      <th>character</th>\n",
       "      <th>role</th>\n",
       "    </tr>\n",
       "  </thead>\n",
       "  <tbody>\n",
       "    <tr>\n",
       "      <th>0</th>\n",
       "      <td>21174</td>\n",
       "      <td>tm19248</td>\n",
       "      <td>Buster Keaton</td>\n",
       "      <td>Johnny Gray</td>\n",
       "      <td>ACTOR</td>\n",
       "    </tr>\n",
       "    <tr>\n",
       "      <th>1</th>\n",
       "      <td>28713</td>\n",
       "      <td>tm19248</td>\n",
       "      <td>Marion Mack</td>\n",
       "      <td>Annabelle Lee</td>\n",
       "      <td>ACTOR</td>\n",
       "    </tr>\n",
       "    <tr>\n",
       "      <th>2</th>\n",
       "      <td>28714</td>\n",
       "      <td>tm19248</td>\n",
       "      <td>Glen Cavender</td>\n",
       "      <td>Captain Anderson</td>\n",
       "      <td>ACTOR</td>\n",
       "    </tr>\n",
       "    <tr>\n",
       "      <th>3</th>\n",
       "      <td>28715</td>\n",
       "      <td>tm19248</td>\n",
       "      <td>Jim Farley</td>\n",
       "      <td>General Thatcher</td>\n",
       "      <td>ACTOR</td>\n",
       "    </tr>\n",
       "    <tr>\n",
       "      <th>4</th>\n",
       "      <td>27348</td>\n",
       "      <td>tm19248</td>\n",
       "      <td>Frederick Vroom</td>\n",
       "      <td>A Southern General</td>\n",
       "      <td>ACTOR</td>\n",
       "    </tr>\n",
       "  </tbody>\n",
       "</table>\n",
       "</div>"
      ],
      "text/plain": [
       "   person_id       id             name           character   role\n",
       "0      21174  tm19248    Buster Keaton         Johnny Gray  ACTOR\n",
       "1      28713  tm19248      Marion Mack       Annabelle Lee  ACTOR\n",
       "2      28714  tm19248    Glen Cavender    Captain Anderson  ACTOR\n",
       "3      28715  tm19248       Jim Farley    General Thatcher  ACTOR\n",
       "4      27348  tm19248  Frederick Vroom  A Southern General  ACTOR"
      ]
     },
     "execution_count": 31,
     "metadata": {},
     "output_type": "execute_result"
    }
   ],
   "source": [
    "# Will show the first few rows of the data frame\n",
    "credits.head()"
   ]
  },
  {
   "cell_type": "markdown",
   "id": "67894734",
   "metadata": {},
   "source": [
    "### About the data set: instances and attributes\n",
    "This data set contains 39842 credits of actors and directors on Paramount titles with 5 columns containing their information, including:\n",
    "\n",
    "- person_ID: The person ID on JustWatch.\n",
    "- id: The title ID on JustWatch.\n",
    "- name: The actor or director's name.\n",
    "- character_name: The character name.\n",
    "- role: ACTOR or DIRECTOR."
   ]
  },
  {
   "cell_type": "code",
   "execution_count": 32,
   "id": "fed3b30e",
   "metadata": {},
   "outputs": [
    {
     "name": "stdout",
     "output_type": "stream",
     "text": [
      "<class 'pandas.core.frame.DataFrame'>\n",
      "RangeIndex: 39842 entries, 0 to 39841\n",
      "Data columns (total 5 columns):\n",
      " #   Column     Non-Null Count  Dtype \n",
      "---  ------     --------------  ----- \n",
      " 0   person_id  39842 non-null  int64 \n",
      " 1   id         39842 non-null  object\n",
      " 2   name       39842 non-null  object\n",
      " 3   character  36729 non-null  object\n",
      " 4   role       39842 non-null  object\n",
      "dtypes: int64(1), object(4)\n",
      "memory usage: 1.5+ MB\n"
     ]
    }
   ],
   "source": [
    "# Getting the information about the DataFrame, including column names, data types, and non-null counts\n",
    "credits.info()"
   ]
  },
  {
   "cell_type": "markdown",
   "id": "9897a989",
   "metadata": {},
   "source": [
    "### Data Analysis"
   ]
  },
  {
   "cell_type": "code",
   "execution_count": 35,
   "id": "45514c5a",
   "metadata": {},
   "outputs": [
    {
     "data": {
      "image/png": "[encoded data removed]",
      "text/plain": [
       "<Figure size 640x480 with 1 Axes>"
      ]
     },
     "metadata": {},
     "output_type": "display_data"
    }
   ],
   "source": [
    "# How many of actors are there compared to directors?\n",
    "sns.countplot(x='role', data=credits)\n",
    "plt.title('Amount of actors compared to directors')\n",
    "plt.show()"
   ]
  },
  {
   "cell_type": "code",
   "execution_count": 38,
   "id": "5da921af",
   "metadata": {},
   "outputs": [],
   "source": [
    "# We can see that there are a lot more actors than there are directors - this makes sense, since most movies have multiple\n",
    "# actors, while there's usually one director"
   ]
  },
  {
   "cell_type": "code",
   "execution_count": 45,
   "id": "4bea6175",
   "metadata": {},
   "outputs": [
    {
     "name": "stdout",
     "output_type": "stream",
     "text": [
      "Directors with the most actors:\n"
     ]
    },
    {
     "data": {
      "text/html": [
       "<div>\n",
       "<style scoped>\n",
       "    .dataframe tbody tr th:only-of-type {\n",
       "        vertical-align: middle;\n",
       "    }\n",
       "\n",
       "    .dataframe tbody tr th {\n",
       "        vertical-align: top;\n",
       "    }\n",
       "\n",
       "    .dataframe thead th {\n",
       "        text-align: right;\n",
       "    }\n",
       "</style>\n",
       "<table border=\"1\" class=\"dataframe\">\n",
       "  <thead>\n",
       "    <tr style=\"text-align: right;\">\n",
       "      <th></th>\n",
       "      <th>name</th>\n",
       "      <th>num_actors</th>\n",
       "    </tr>\n",
       "  </thead>\n",
       "  <tbody>\n",
       "    <tr>\n",
       "      <th>791</th>\n",
       "      <td>Joseph Kane</td>\n",
       "      <td>25</td>\n",
       "    </tr>\n",
       "    <tr>\n",
       "      <th>1326</th>\n",
       "      <td>Sam Newfield</td>\n",
       "      <td>20</td>\n",
       "    </tr>\n",
       "    <tr>\n",
       "      <th>1315</th>\n",
       "      <td>Ryan Polito</td>\n",
       "      <td>19</td>\n",
       "    </tr>\n",
       "    <tr>\n",
       "      <th>1263</th>\n",
       "      <td>Robert N. Bradbury</td>\n",
       "      <td>14</td>\n",
       "    </tr>\n",
       "    <tr>\n",
       "      <th>717</th>\n",
       "      <td>Joel Gallen</td>\n",
       "      <td>13</td>\n",
       "    </tr>\n",
       "  </tbody>\n",
       "</table>\n",
       "</div>"
      ],
      "text/plain": [
       "                    name  num_actors\n",
       "791          Joseph Kane          25\n",
       "1326        Sam Newfield          20\n",
       "1315         Ryan Polito          19\n",
       "1263  Robert N. Bradbury          14\n",
       "717          Joel Gallen          13"
      ]
     },
     "execution_count": 45,
     "metadata": {},
     "output_type": "execute_result"
    }
   ],
   "source": [
    "# Let's check which directors worked with the most actors\n",
    "\n",
    "# Filter for directors\n",
    "directors_data = credits[credits['role'] == 'DIRECTOR']\n",
    "\n",
    "# Group directors data by 'name_director' and count unique actors\n",
    "directors_with_most_actors = directors_data.groupby('name')['name'].count().reset_index(name='num_actors')\n",
    "\n",
    "# Sort directors by number of actors in descending order\n",
    "directors_with_most_actors = directors_with_most_actors.sort_values(by='num_actors', ascending=False)\n",
    "\n",
    "# Display the directors with the most actors\n",
    "print(\"Directors with the most actors:\")\n",
    "directors_with_most_actors.head()"
   ]
  },
  {
   "cell_type": "code",
   "execution_count": 49,
   "id": "f81e72b4",
   "metadata": {},
   "outputs": [
    {
     "name": "stdout",
     "output_type": "stream",
     "text": [
      "Actors with the most directors:\n"
     ]
    },
    {
     "data": {
      "text/html": [
       "<div>\n",
       "<style scoped>\n",
       "    .dataframe tbody tr th:only-of-type {\n",
       "        vertical-align: middle;\n",
       "    }\n",
       "\n",
       "    .dataframe tbody tr th {\n",
       "        vertical-align: top;\n",
       "    }\n",
       "\n",
       "    .dataframe thead th {\n",
       "        text-align: right;\n",
       "    }\n",
       "</style>\n",
       "<table border=\"1\" class=\"dataframe\">\n",
       "  <thead>\n",
       "    <tr style=\"text-align: right;\">\n",
       "      <th></th>\n",
       "      <th>name</th>\n",
       "      <th>num_directors</th>\n",
       "    </tr>\n",
       "  </thead>\n",
       "  <tbody>\n",
       "    <tr>\n",
       "      <th>8770</th>\n",
       "      <td>George 'Gabby' Hayes</td>\n",
       "      <td>30</td>\n",
       "    </tr>\n",
       "    <tr>\n",
       "      <th>13061</th>\n",
       "      <td>John Wayne</td>\n",
       "      <td>26</td>\n",
       "    </tr>\n",
       "    <tr>\n",
       "      <th>22128</th>\n",
       "      <td>Roy Rogers</td>\n",
       "      <td>25</td>\n",
       "    </tr>\n",
       "    <tr>\n",
       "      <th>6919</th>\n",
       "      <td>Earl Dwire</td>\n",
       "      <td>25</td>\n",
       "    </tr>\n",
       "    <tr>\n",
       "      <th>8127</th>\n",
       "      <td>Forrest Taylor</td>\n",
       "      <td>21</td>\n",
       "    </tr>\n",
       "  </tbody>\n",
       "</table>\n",
       "</div>"
      ],
      "text/plain": [
       "                       name  num_directors\n",
       "8770   George 'Gabby' Hayes             30\n",
       "13061            John Wayne             26\n",
       "22128            Roy Rogers             25\n",
       "6919             Earl Dwire             25\n",
       "8127         Forrest Taylor             21"
      ]
     },
     "execution_count": 49,
     "metadata": {},
     "output_type": "execute_result"
    }
   ],
   "source": [
    "# Let's do the same thing with actors that worked with most directors:\n",
    "\n",
    "# Filter for actors\n",
    "actors_data = credits[credits['role'] == 'ACTOR']\n",
    "\n",
    "# Group directors data by 'name_actor' and count unique directors\n",
    "actors_with_most_directors = actors_data.groupby('name')['name'].count().reset_index(name='num_directors')\n",
    "\n",
    "# Sort actors by number of directors in descending order\n",
    "actors_with_most_directors = actors_with_most_directors.sort_values(by='num_directors', ascending=False)\n",
    "\n",
    "# Display the actors with the most directors\n",
    "print(\"Actors with the most directors:\")\n",
    "actors_with_most_directors.head()"
   ]
  },
  {
   "cell_type": "code",
   "execution_count": 106,
   "id": "224e2592",
   "metadata": {},
   "outputs": [
    {
     "data": {
      "text/html": [
       "<div>\n",
       "<style scoped>\n",
       "    .dataframe tbody tr th:only-of-type {\n",
       "        vertical-align: middle;\n",
       "    }\n",
       "\n",
       "    .dataframe tbody tr th {\n",
       "        vertical-align: top;\n",
       "    }\n",
       "\n",
       "    .dataframe thead th {\n",
       "        text-align: right;\n",
       "    }\n",
       "</style>\n",
       "<table border=\"1\" class=\"dataframe\">\n",
       "  <thead>\n",
       "    <tr style=\"text-align: right;\">\n",
       "      <th></th>\n",
       "      <th>Actor/Director Name</th>\n",
       "      <th>Number of Titles</th>\n",
       "    </tr>\n",
       "  </thead>\n",
       "  <tbody>\n",
       "    <tr>\n",
       "      <th>9033</th>\n",
       "      <td>George 'Gabby' Hayes</td>\n",
       "      <td>29</td>\n",
       "    </tr>\n",
       "    <tr>\n",
       "      <th>13505</th>\n",
       "      <td>John Wayne</td>\n",
       "      <td>26</td>\n",
       "    </tr>\n",
       "    <tr>\n",
       "      <th>7126</th>\n",
       "      <td>Earl Dwire</td>\n",
       "      <td>25</td>\n",
       "    </tr>\n",
       "    <tr>\n",
       "      <th>13831</th>\n",
       "      <td>Joseph Kane</td>\n",
       "      <td>25</td>\n",
       "    </tr>\n",
       "    <tr>\n",
       "      <th>22888</th>\n",
       "      <td>Roy Rogers</td>\n",
       "      <td>25</td>\n",
       "    </tr>\n",
       "  </tbody>\n",
       "</table>\n",
       "</div>"
      ],
      "text/plain": [
       "        Actor/Director Name  Number of Titles\n",
       "9033   George 'Gabby' Hayes                29\n",
       "13505            John Wayne                26\n",
       "7126             Earl Dwire                25\n",
       "13831           Joseph Kane                25\n",
       "22888            Roy Rogers                25"
      ]
     },
     "execution_count": 106,
     "metadata": {},
     "output_type": "execute_result"
    }
   ],
   "source": [
    "# Let's see the top actors and directors based on the number of movies they directed/starred in\n",
    "\n",
    "merged_datasets = pd.merge(titles, credits, on='id')\n",
    "most_popular_actors_directors = merged_datasets.groupby('name').agg({'id': 'count'}).reset_index()\n",
    "\n",
    "most_popular_actors_directors = most_popular_actors_directors.sort_values(by='id', ascending=False)\n",
    "\n",
    "most_popular_actors_directors.columns = ['Actor/Director Name', 'Number of Titles']\n",
    "most_popular_actors_directors.head()"
   ]
  },
  {
   "cell_type": "code",
   "execution_count": 126,
   "id": "488328d4",
   "metadata": {},
   "outputs": [
    {
     "data": {
      "image/png": "[encoded data removed]",
      "text/plain": [
       "<Figure size 1200x600 with 1 Axes>"
      ]
     },
     "metadata": {},
     "output_type": "display_data"
    },
    {
     "data": {
      "image/png": "[encoded data removed]",
      "text/plain": [
       "<Figure size 1200x600 with 1 Axes>"
      ]
     },
     "metadata": {},
     "output_type": "display_data"
    }
   ],
   "source": [
    "# We could check who the best actors or directors are based on their imdb average score \n",
    "\n",
    "# Actors\n",
    "# we use .filter(lambda x: len(x) >= 5) because I decided that that should be the minimum amount titles it takes to rate an actor\n",
    "top_actors = merged_datasets[merged_datasets['role'] == 'ACTOR'].groupby('name').filter(lambda x: len(x) >= 5)\n",
    "avg_imdb_scores_actors = top_actors.groupby('name')['imdb_score'].mean().reset_index()\n",
    "\n",
    "top_10_imdb_score_actors = avg_imdb_scores_actors.sort_values(by='imdb_score', ascending=False).head(10)\n",
    "\n",
    "sns.set(style=\"whitegrid\")\n",
    "plt.figure(figsize=(12, 6))\n",
    "plt.subplot(1, 2, 1)\n",
    "sns.boxplot(x='name', y='imdb_score', data=top_10_imdb_score_actors)\n",
    "plt.title('Average IMDb Scores for Top Actors', fontsize=16)\n",
    "plt.xlabel('Actor Name', fontsize=14)\n",
    "plt.ylabel('Average IMDb Score', fontsize=14)\n",
    "plt.xticks(rotation=90)\n",
    "plt.tight_layout()\n",
    "\n",
    "\n",
    "# Directors\n",
    "top_directors = merged_datasets[merged_datasets['role'] == 'DIRECTOR'].groupby('name').filter(lambda x: len(x) >= 5)\n",
    "avg_imdb_scores_directors = top_directors.groupby('name')['imdb_score'].mean().reset_index()\n",
    "\n",
    "top_10_imdb_score_directors = avg_imdb_scores_directors.sort_values(by='imdb_score', ascending=False).head(10)\n",
    "\n",
    "sns.set(style=\"whitegrid\")\n",
    "plt.figure(figsize=(12, 6))\n",
    "plt.subplot(1, 2, 2)\n",
    "sns.boxplot(x='name', y='imdb_score', data=top_10_imdb_score_directors)\n",
    "plt.title('Average IMDb Scores for Top Directors', fontsize=16)\n",
    "plt.xlabel('Director Name', fontsize=14)\n",
    "plt.ylabel('Average IMDb Score', fontsize=14)\n",
    "plt.xticks(rotation=90)\n",
    "plt.tight_layout()\n"
   ]
  }
 ],
 "metadata": {
  "kernelspec": {
   "display_name": "Python 3 (ipykernel)",
   "language": "python",
   "name": "python3"
  },
  "language_info": {
   "codemirror_mode": {
    "name": "ipython",
    "version": 3
   },
   "file_extension": ".py",
   "mimetype": "text/x-python",
   "name": "python",
   "nbconvert_exporter": "python",
   "pygments_lexer": "ipython3",
   "version": "3.10.1"
  }
 },
 "nbformat": 4,
 "nbformat_minor": 5
}
