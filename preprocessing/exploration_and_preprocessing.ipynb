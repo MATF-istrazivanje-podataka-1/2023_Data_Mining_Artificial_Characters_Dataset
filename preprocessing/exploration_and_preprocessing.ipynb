{
 "cells": [
  {
   "cell_type": "code",
   "execution_count": 3,
   "id": "6b81d817",
   "metadata": {},
   "outputs": [],
   "source": [
    "import numpy as np\n",
    "import pandas as pd\n",
    "import matplotlib.pyplot as plt\n",
    "import seaborn as sns"
   ]
  },
  {
   "cell_type": "code",
   "execution_count": 4,
   "id": "7a2379be",
   "metadata": {},
   "outputs": [],
   "source": [
    "import os"
   ]
  },
  {
   "cell_type": "code",
   "execution_count": 5,
   "id": "004c2692",
   "metadata": {},
   "outputs": [
    {
     "ename": "FileNotFoundError",
     "evalue": "[Errno 2] No such file or directory: '.\\\\dataset\\\\titles.csv'",
     "output_type": "error",
     "traceback": [
      "\u001b[1;31m---------------------------------------------------------\u001b[0m",
      "\u001b[1;31mFileNotFoundError\u001b[0m       Traceback (most recent call last)",
      "Cell \u001b[1;32mIn[5], line 1\u001b[0m\n\u001b[1;32m----> 1\u001b[0m titles \u001b[38;5;241m=\u001b[39m \u001b[43mpd\u001b[49m\u001b[38;5;241;43m.\u001b[39;49m\u001b[43mread_csv\u001b[49m\u001b[43m(\u001b[49m\u001b[38;5;124;43mr\u001b[39;49m\u001b[38;5;124;43m\"\u001b[39;49m\u001b[38;5;124;43m.\u001b[39;49m\u001b[38;5;124;43m\\\u001b[39;49m\u001b[38;5;124;43mdataset\u001b[39;49m\u001b[38;5;124;43m\\\u001b[39;49m\u001b[38;5;124;43mtitles.csv\u001b[39;49m\u001b[38;5;124;43m\"\u001b[39;49m\u001b[43m)\u001b[49m\n\u001b[0;32m      2\u001b[0m credits \u001b[38;5;241m=\u001b[39m pd\u001b[38;5;241m.\u001b[39mread_csv(\u001b[38;5;124mr\u001b[39m\u001b[38;5;124m\"\u001b[39m\u001b[38;5;124m.\u001b[39m\u001b[38;5;124m\\\u001b[39m\u001b[38;5;124mdataset\u001b[39m\u001b[38;5;124m\\\u001b[39m\u001b[38;5;124mcredits.csv\u001b[39m\u001b[38;5;124m\"\u001b[39m)\n",
      "File \u001b[1;32m~\\AppData\\Local\\Programs\\Python\\Python310\\lib\\site-packages\\pandas\\io\\parsers\\readers.py:912\u001b[0m, in \u001b[0;36mread_csv\u001b[1;34m(filepath_or_buffer, sep, delimiter, header, names, index_col, usecols, dtype, engine, converters, true_values, false_values, skipinitialspace, skiprows, skipfooter, nrows, na_values, keep_default_na, na_filter, verbose, skip_blank_lines, parse_dates, infer_datetime_format, keep_date_col, date_parser, date_format, dayfirst, cache_dates, iterator, chunksize, compression, thousands, decimal, lineterminator, quotechar, quoting, doublequote, escapechar, comment, encoding, encoding_errors, dialect, on_bad_lines, delim_whitespace, low_memory, memory_map, float_precision, storage_options, dtype_backend)\u001b[0m\n\u001b[0;32m    899\u001b[0m kwds_defaults \u001b[38;5;241m=\u001b[39m _refine_defaults_read(\n\u001b[0;32m    900\u001b[0m     dialect,\n\u001b[0;32m    901\u001b[0m     delimiter,\n\u001b[1;32m   (...)\u001b[0m\n\u001b[0;32m    908\u001b[0m     dtype_backend\u001b[38;5;241m=\u001b[39mdtype_backend,\n\u001b[0;32m    909\u001b[0m )\n\u001b[0;32m    910\u001b[0m kwds\u001b[38;5;241m.\u001b[39mupdate(kwds_defaults)\n\u001b[1;32m--> 912\u001b[0m \u001b[38;5;28;01mreturn\u001b[39;00m \u001b[43m_read\u001b[49m\u001b[43m(\u001b[49m\u001b[43mfilepath_or_buffer\u001b[49m\u001b[43m,\u001b[49m\u001b[43m \u001b[49m\u001b[43mkwds\u001b[49m\u001b[43m)\u001b[49m\n",
      "File \u001b[1;32m~\\AppData\\Local\\Programs\\Python\\Python310\\lib\\site-packages\\pandas\\io\\parsers\\readers.py:577\u001b[0m, in \u001b[0;36m_read\u001b[1;34m(filepath_or_buffer, kwds)\u001b[0m\n\u001b[0;32m    574\u001b[0m _validate_names(kwds\u001b[38;5;241m.\u001b[39mget(\u001b[38;5;124m\"\u001b[39m\u001b[38;5;124mnames\u001b[39m\u001b[38;5;124m\"\u001b[39m, \u001b[38;5;28;01mNone\u001b[39;00m))\n\u001b[0;32m    576\u001b[0m \u001b[38;5;66;03m# Create the parser.\u001b[39;00m\n\u001b[1;32m--> 577\u001b[0m parser \u001b[38;5;241m=\u001b[39m TextFileReader(filepath_or_buffer, \u001b[38;5;241m*\u001b[39m\u001b[38;5;241m*\u001b[39mkwds)\n\u001b[0;32m    579\u001b[0m \u001b[38;5;28;01mif\u001b[39;00m chunksize \u001b[38;5;129;01mor\u001b[39;00m iterator:\n\u001b[0;32m    580\u001b[0m     \u001b[38;5;28;01mreturn\u001b[39;00m parser\n",
      "File \u001b[1;32m~\\AppData\\Local\\Programs\\Python\\Python310\\lib\\site-packages\\pandas\\io\\parsers\\readers.py:1407\u001b[0m, in \u001b[0;36mTextFileReader.__init__\u001b[1;34m(self, f, engine, **kwds)\u001b[0m\n\u001b[0;32m   1404\u001b[0m     \u001b[38;5;28mself\u001b[39m\u001b[38;5;241m.\u001b[39moptions[\u001b[38;5;124m\"\u001b[39m\u001b[38;5;124mhas_index_names\u001b[39m\u001b[38;5;124m\"\u001b[39m] \u001b[38;5;241m=\u001b[39m kwds[\u001b[38;5;124m\"\u001b[39m\u001b[38;5;124mhas_index_names\u001b[39m\u001b[38;5;124m\"\u001b[39m]\n\u001b[0;32m   1406\u001b[0m \u001b[38;5;28mself\u001b[39m\u001b[38;5;241m.\u001b[39mhandles: IOHandles \u001b[38;5;241m|\u001b[39m \u001b[38;5;28;01mNone\u001b[39;00m \u001b[38;5;241m=\u001b[39m \u001b[38;5;28;01mNone\u001b[39;00m\n\u001b[1;32m-> 1407\u001b[0m \u001b[38;5;28mself\u001b[39m\u001b[38;5;241m.\u001b[39m_engine \u001b[38;5;241m=\u001b[39m \u001b[38;5;28;43mself\u001b[39;49m\u001b[38;5;241;43m.\u001b[39;49m\u001b[43m_make_engine\u001b[49m\u001b[43m(\u001b[49m\u001b[43mf\u001b[49m\u001b[43m,\u001b[49m\u001b[43m \u001b[49m\u001b[38;5;28;43mself\u001b[39;49m\u001b[38;5;241;43m.\u001b[39;49m\u001b[43mengine\u001b[49m\u001b[43m)\u001b[49m\n",
      "File \u001b[1;32m~\\AppData\\Local\\Programs\\Python\\Python310\\lib\\site-packages\\pandas\\io\\parsers\\readers.py:1661\u001b[0m, in \u001b[0;36mTextFileReader._make_engine\u001b[1;34m(self, f, engine)\u001b[0m\n\u001b[0;32m   1659\u001b[0m     \u001b[38;5;28;01mif\u001b[39;00m \u001b[38;5;124m\"\u001b[39m\u001b[38;5;124mb\u001b[39m\u001b[38;5;124m\"\u001b[39m \u001b[38;5;129;01mnot\u001b[39;00m \u001b[38;5;129;01min\u001b[39;00m mode:\n\u001b[0;32m   1660\u001b[0m         mode \u001b[38;5;241m+\u001b[39m\u001b[38;5;241m=\u001b[39m \u001b[38;5;124m\"\u001b[39m\u001b[38;5;124mb\u001b[39m\u001b[38;5;124m\"\u001b[39m\n\u001b[1;32m-> 1661\u001b[0m \u001b[38;5;28mself\u001b[39m\u001b[38;5;241m.\u001b[39mhandles \u001b[38;5;241m=\u001b[39m \u001b[43mget_handle\u001b[49m\u001b[43m(\u001b[49m\n\u001b[0;32m   1662\u001b[0m \u001b[43m    \u001b[49m\u001b[43mf\u001b[49m\u001b[43m,\u001b[49m\n\u001b[0;32m   1663\u001b[0m \u001b[43m    \u001b[49m\u001b[43mmode\u001b[49m\u001b[43m,\u001b[49m\n\u001b[0;32m   1664\u001b[0m \u001b[43m    \u001b[49m\u001b[43mencoding\u001b[49m\u001b[38;5;241;43m=\u001b[39;49m\u001b[38;5;28;43mself\u001b[39;49m\u001b[38;5;241;43m.\u001b[39;49m\u001b[43moptions\u001b[49m\u001b[38;5;241;43m.\u001b[39;49m\u001b[43mget\u001b[49m\u001b[43m(\u001b[49m\u001b[38;5;124;43m\"\u001b[39;49m\u001b[38;5;124;43mencoding\u001b[39;49m\u001b[38;5;124;43m\"\u001b[39;49m\u001b[43m,\u001b[49m\u001b[43m \u001b[49m\u001b[38;5;28;43;01mNone\u001b[39;49;00m\u001b[43m)\u001b[49m\u001b[43m,\u001b[49m\n\u001b[0;32m   1665\u001b[0m \u001b[43m    \u001b[49m\u001b[43mcompression\u001b[49m\u001b[38;5;241;43m=\u001b[39;49m\u001b[38;5;28;43mself\u001b[39;49m\u001b[38;5;241;43m.\u001b[39;49m\u001b[43moptions\u001b[49m\u001b[38;5;241;43m.\u001b[39;49m\u001b[43mget\u001b[49m\u001b[43m(\u001b[49m\u001b[38;5;124;43m\"\u001b[39;49m\u001b[38;5;124;43mcompression\u001b[39;49m\u001b[38;5;124;43m\"\u001b[39;49m\u001b[43m,\u001b[49m\u001b[43m \u001b[49m\u001b[38;5;28;43;01mNone\u001b[39;49;00m\u001b[43m)\u001b[49m\u001b[43m,\u001b[49m\n\u001b[0;32m   1666\u001b[0m \u001b[43m    \u001b[49m\u001b[43mmemory_map\u001b[49m\u001b[38;5;241;43m=\u001b[39;49m\u001b[38;5;28;43mself\u001b[39;49m\u001b[38;5;241;43m.\u001b[39;49m\u001b[43moptions\u001b[49m\u001b[38;5;241;43m.\u001b[39;49m\u001b[43mget\u001b[49m\u001b[43m(\u001b[49m\u001b[38;5;124;43m\"\u001b[39;49m\u001b[38;5;124;43mmemory_map\u001b[39;49m\u001b[38;5;124;43m\"\u001b[39;49m\u001b[43m,\u001b[49m\u001b[43m \u001b[49m\u001b[38;5;28;43;01mFalse\u001b[39;49;00m\u001b[43m)\u001b[49m\u001b[43m,\u001b[49m\n\u001b[0;32m   1667\u001b[0m \u001b[43m    \u001b[49m\u001b[43mis_text\u001b[49m\u001b[38;5;241;43m=\u001b[39;49m\u001b[43mis_text\u001b[49m\u001b[43m,\u001b[49m\n\u001b[0;32m   1668\u001b[0m \u001b[43m    \u001b[49m\u001b[43merrors\u001b[49m\u001b[38;5;241;43m=\u001b[39;49m\u001b[38;5;28;43mself\u001b[39;49m\u001b[38;5;241;43m.\u001b[39;49m\u001b[43moptions\u001b[49m\u001b[38;5;241;43m.\u001b[39;49m\u001b[43mget\u001b[49m\u001b[43m(\u001b[49m\u001b[38;5;124;43m\"\u001b[39;49m\u001b[38;5;124;43mencoding_errors\u001b[39;49m\u001b[38;5;124;43m\"\u001b[39;49m\u001b[43m,\u001b[49m\u001b[43m \u001b[49m\u001b[38;5;124;43m\"\u001b[39;49m\u001b[38;5;124;43mstrict\u001b[39;49m\u001b[38;5;124;43m\"\u001b[39;49m\u001b[43m)\u001b[49m\u001b[43m,\u001b[49m\n\u001b[0;32m   1669\u001b[0m \u001b[43m    \u001b[49m\u001b[43mstorage_options\u001b[49m\u001b[38;5;241;43m=\u001b[39;49m\u001b[38;5;28;43mself\u001b[39;49m\u001b[38;5;241;43m.\u001b[39;49m\u001b[43moptions\u001b[49m\u001b[38;5;241;43m.\u001b[39;49m\u001b[43mget\u001b[49m\u001b[43m(\u001b[49m\u001b[38;5;124;43m\"\u001b[39;49m\u001b[38;5;124;43mstorage_options\u001b[39;49m\u001b[38;5;124;43m\"\u001b[39;49m\u001b[43m,\u001b[49m\u001b[43m \u001b[49m\u001b[38;5;28;43;01mNone\u001b[39;49;00m\u001b[43m)\u001b[49m\u001b[43m,\u001b[49m\n\u001b[0;32m   1670\u001b[0m \u001b[43m\u001b[49m\u001b[43m)\u001b[49m\n\u001b[0;32m   1671\u001b[0m \u001b[38;5;28;01massert\u001b[39;00m \u001b[38;5;28mself\u001b[39m\u001b[38;5;241m.\u001b[39mhandles \u001b[38;5;129;01mis\u001b[39;00m \u001b[38;5;129;01mnot\u001b[39;00m \u001b[38;5;28;01mNone\u001b[39;00m\n\u001b[0;32m   1672\u001b[0m f \u001b[38;5;241m=\u001b[39m \u001b[38;5;28mself\u001b[39m\u001b[38;5;241m.\u001b[39mhandles\u001b[38;5;241m.\u001b[39mhandle\n",
      "File \u001b[1;32m~\\AppData\\Local\\Programs\\Python\\Python310\\lib\\site-packages\\pandas\\io\\common.py:859\u001b[0m, in \u001b[0;36mget_handle\u001b[1;34m(path_or_buf, mode, encoding, compression, memory_map, is_text, errors, storage_options)\u001b[0m\n\u001b[0;32m    854\u001b[0m \u001b[38;5;28;01melif\u001b[39;00m \u001b[38;5;28misinstance\u001b[39m(handle, \u001b[38;5;28mstr\u001b[39m):\n\u001b[0;32m    855\u001b[0m     \u001b[38;5;66;03m# Check whether the filename is to be opened in binary mode.\u001b[39;00m\n\u001b[0;32m    856\u001b[0m     \u001b[38;5;66;03m# Binary mode does not support 'encoding' and 'newline'.\u001b[39;00m\n\u001b[0;32m    857\u001b[0m     \u001b[38;5;28;01mif\u001b[39;00m ioargs\u001b[38;5;241m.\u001b[39mencoding \u001b[38;5;129;01mand\u001b[39;00m \u001b[38;5;124m\"\u001b[39m\u001b[38;5;124mb\u001b[39m\u001b[38;5;124m\"\u001b[39m \u001b[38;5;129;01mnot\u001b[39;00m \u001b[38;5;129;01min\u001b[39;00m ioargs\u001b[38;5;241m.\u001b[39mmode:\n\u001b[0;32m    858\u001b[0m         \u001b[38;5;66;03m# Encoding\u001b[39;00m\n\u001b[1;32m--> 859\u001b[0m         handle \u001b[38;5;241m=\u001b[39m \u001b[38;5;28;43mopen\u001b[39;49m\u001b[43m(\u001b[49m\n\u001b[0;32m    860\u001b[0m \u001b[43m            \u001b[49m\u001b[43mhandle\u001b[49m\u001b[43m,\u001b[49m\n\u001b[0;32m    861\u001b[0m \u001b[43m            \u001b[49m\u001b[43mioargs\u001b[49m\u001b[38;5;241;43m.\u001b[39;49m\u001b[43mmode\u001b[49m\u001b[43m,\u001b[49m\n\u001b[0;32m    862\u001b[0m \u001b[43m            \u001b[49m\u001b[43mencoding\u001b[49m\u001b[38;5;241;43m=\u001b[39;49m\u001b[43mioargs\u001b[49m\u001b[38;5;241;43m.\u001b[39;49m\u001b[43mencoding\u001b[49m\u001b[43m,\u001b[49m\n\u001b[0;32m    863\u001b[0m \u001b[43m            \u001b[49m\u001b[43merrors\u001b[49m\u001b[38;5;241;43m=\u001b[39;49m\u001b[43merrors\u001b[49m\u001b[43m,\u001b[49m\n\u001b[0;32m    864\u001b[0m \u001b[43m            \u001b[49m\u001b[43mnewline\u001b[49m\u001b[38;5;241;43m=\u001b[39;49m\u001b[38;5;124;43m\"\u001b[39;49m\u001b[38;5;124;43m\"\u001b[39;49m\u001b[43m,\u001b[49m\n\u001b[0;32m    865\u001b[0m \u001b[43m        \u001b[49m\u001b[43m)\u001b[49m\n\u001b[0;32m    866\u001b[0m     \u001b[38;5;28;01melse\u001b[39;00m:\n\u001b[0;32m    867\u001b[0m         \u001b[38;5;66;03m# Binary mode\u001b[39;00m\n\u001b[0;32m    868\u001b[0m         handle \u001b[38;5;241m=\u001b[39m \u001b[38;5;28mopen\u001b[39m(handle, ioargs\u001b[38;5;241m.\u001b[39mmode)\n",
      "\u001b[1;31mFileNotFoundError\u001b[0m: [Errno 2] No such file or directory: '.\\\\dataset\\\\titles.csv'"
     ]
    }
   ],
   "source": [
    "titles = pd.read_csv(r\"..\\dataset\\titles.csv\")\n",
    "credits = pd.read_csv(r\".\\dataset\\credits.csv\")"
   ]
  },
  {
   "cell_type": "markdown",
   "id": "0d76fffc",
   "metadata": {},
   "source": [
    "## \"Titles\" data frame"
   ]
  },
  {
   "cell_type": "code",
   "execution_count": null,
   "id": "b6e81880",
   "metadata": {},
   "outputs": [],
   "source": [
    "# Get the number of rows and columns in the \"titles\" data frame\n",
    "print(\"Number of rows (instances): \", titles.shape[0])\n",
    "print(\"Number of columns (attributes): \", titles.shape[1])"
   ]
  },
  {
   "cell_type": "code",
   "execution_count": null,
   "id": "d3fd6892",
   "metadata": {
    "scrolled": true
   },
   "outputs": [],
   "source": [
    "# Will show the first few rows of the data frame\n",
    "titles.head()"
   ]
  },
  {
   "cell_type": "markdown",
   "id": "42791ab7",
   "metadata": {},
   "source": [
    "### About the dataset: Instances and Attributes\n",
    "\n",
    "This dataset contains 2825 unique titles on Paramount with 15 columns containing their information, including:\n",
    "\n",
    "- id: The title ID on JustWatch.\n",
    "- title: The name of the title.\n",
    "- show_type: TV show or movie.\n",
    "- description: A brief description.\n",
    "- release_year: The release year.\n",
    "- age_certification: The age certification.\n",
    "- runtime: The length of the episode (SHOW) or movie.\n",
    "- genres: A list of genres.\n",
    "- production_countries: A list of countries that produced the title.\n",
    "- seasons: Number of seasons if it's a SHOW.\n",
    "- imdb_id: The title ID on IMDB.\n",
    "- imdb_score: Score on IMDB.\n",
    "- imdb_votes: Votes on IMDB.\n",
    "- tmdb_popularity: Popularity on TMDB.\n",
    "- tmdb_score: Score on TMDB."
   ]
  },
  {
   "cell_type": "code",
   "execution_count": null,
   "id": "dd338bdb",
   "metadata": {},
   "outputs": [],
   "source": [
    "# Getting the information about the DataFrame, including column names, data types, and non-null counts\n",
    "titles.info()"
   ]
  },
  {
   "cell_type": "markdown",
   "id": "4b20ff0f",
   "metadata": {},
   "source": [
    "### Data Analysis"
   ]
  },
  {
   "cell_type": "code",
   "execution_count": null,
   "id": "fb56787b",
   "metadata": {
    "scrolled": true
   },
   "outputs": [],
   "source": [
    "# Checking unique values in numerical columns\n",
    "\n",
    "print(\"All of the release years:\\n\", np.sort(titles['release_year'].unique()))\n",
    "print(\"Number of release years:\\n\", titles['release_year'].unique().size)\n"
   ]
  },
  {
   "cell_type": "code",
   "execution_count": null,
   "id": "d4fb40c5",
   "metadata": {
    "scrolled": false
   },
   "outputs": [],
   "source": [
    "print(\"All of the possible season lengths:\\n\", np.sort(titles['seasons'].unique()))\n",
    "print(\"Number of possible season lengths:\\n\", titles['seasons'].unique().size)"
   ]
  },
  {
   "cell_type": "code",
   "execution_count": null,
   "id": "cfad6b5c",
   "metadata": {},
   "outputs": [],
   "source": [
    "# We can check what the mean, median and mode are for \n",
    "# - imdb_score\n",
    "# - imdb_votes\n",
    "# - tmdb_popularity\n",
    "# - tmdb_score \n",
    "# are \n",
    "\n",
    "# I took this code from chatGPT by asking it to help me turn a bunch of print commands into a table \n",
    "\n",
    "statistics = {\n",
    "    'Attribute': ['imdb_score', 'imdb_votes', 'tmdb_popularity', 'tmdb_score'],\n",
    "    'Mean': [titles['imdb_score'].mean(), titles['imdb_votes'].mean(), titles['tmdb_popularity'].mean(), titles['tmdb_score'].mean()],\n",
    "    'Median': [titles['imdb_score'].median(), titles['imdb_votes'].median(), titles['tmdb_popularity'].median(), titles['tmdb_score'].median()],\n",
    "    'Mode': [titles['imdb_score'].mode()[0], titles['imdb_votes'].mode()[0], titles['tmdb_popularity'].mode()[0], titles['tmdb_score'].mode()[0]]\n",
    "}\n",
    "\n",
    "df = pd.DataFrame(statistics)\n",
    "df"
   ]
  },
  {
   "cell_type": "code",
   "execution_count": null,
   "id": "ca575d6d",
   "metadata": {},
   "outputs": [],
   "source": [
    "# Checking the correlation between imdb_score and tmdb_score\n",
    "correlation = titles[['imdb_score', 'tmdb_score']].corr()\n",
    "print(\"Correlation between imdb_score and tmdb_score: \")\n",
    "correlation"
   ]
  },
  {
   "cell_type": "code",
   "execution_count": null,
   "id": "4552147d",
   "metadata": {},
   "outputs": [],
   "source": [
    "# Frequency distribution of show type\n",
    "sns.countplot(x='type', data=titles)\n",
    "plt.title('Frequency Distribution of Show Type')\n",
    "plt.show()"
   ]
  },
  {
   "cell_type": "code",
   "execution_count": 6,
   "id": "74144f07",
   "metadata": {},
   "outputs": [],
   "source": [
    "# Here we can see that there are a lot more movies than there are shows in this data set."
   ]
  },
  {
   "cell_type": "code",
   "execution_count": 7,
   "id": "ece0b51c",
   "metadata": {},
   "outputs": [
    {
     "ename": "NameError",
     "evalue": "name 'titles' is not defined",
     "output_type": "error",
     "traceback": [
      "\u001b[1;31m---------------------------------------------------------\u001b[0m",
      "\u001b[1;31mNameError\u001b[0m               Traceback (most recent call last)",
      "Cell \u001b[1;32mIn[7], line 2\u001b[0m\n\u001b[0;32m      1\u001b[0m \u001b[38;5;66;03m# How many movies/shows of a certain age certification are there?\u001b[39;00m\n\u001b[1;32m----> 2\u001b[0m cross_tab \u001b[38;5;241m=\u001b[39m pd\u001b[38;5;241m.\u001b[39mcrosstab(\u001b[43mtitles\u001b[49m[\u001b[38;5;124m'\u001b[39m\u001b[38;5;124mtype\u001b[39m\u001b[38;5;124m'\u001b[39m], titles[\u001b[38;5;124m'\u001b[39m\u001b[38;5;124mage_certification\u001b[39m\u001b[38;5;124m'\u001b[39m])\n\u001b[0;32m      3\u001b[0m cross_tab\n",
      "\u001b[1;31mNameError\u001b[0m: name 'titles' is not defined"
     ]
    }
   ],
   "source": [
    "# How many movies/shows of a certain age certification are there?\n",
    "cross_tab = pd.crosstab(titles['type'], titles['age_certification'])\n",
    "cross_tab"
   ]
  },
  {
   "cell_type": "code",
   "execution_count": 8,
   "id": "d63f3759",
   "metadata": {},
   "outputs": [
    {
     "ename": "NameError",
     "evalue": "name 'titles' is not defined",
     "output_type": "error",
     "traceback": [
      "\u001b[1;31m---------------------------------------------------------\u001b[0m",
      "\u001b[1;31mNameError\u001b[0m               Traceback (most recent call last)",
      "Cell \u001b[1;32mIn[8], line 4\u001b[0m\n\u001b[0;32m      1\u001b[0m \u001b[38;5;66;03m# Comparing the ratings of movies and shows\u001b[39;00m\n\u001b[0;32m      2\u001b[0m \n\u001b[0;32m      3\u001b[0m \u001b[38;5;66;03m# Filter the data for \"MOVIE\" and \"SHOW\" types\u001b[39;00m\n\u001b[1;32m----> 4\u001b[0m movies \u001b[38;5;241m=\u001b[39m \u001b[43mtitles\u001b[49m[titles[\u001b[38;5;124m'\u001b[39m\u001b[38;5;124mtype\u001b[39m\u001b[38;5;124m'\u001b[39m] \u001b[38;5;241m==\u001b[39m \u001b[38;5;124m'\u001b[39m\u001b[38;5;124mMOVIE\u001b[39m\u001b[38;5;124m'\u001b[39m]\n\u001b[0;32m      5\u001b[0m shows \u001b[38;5;241m=\u001b[39m titles[titles[\u001b[38;5;124m'\u001b[39m\u001b[38;5;124mtype\u001b[39m\u001b[38;5;124m'\u001b[39m] \u001b[38;5;241m==\u001b[39m \u001b[38;5;124m'\u001b[39m\u001b[38;5;124mSHOW\u001b[39m\u001b[38;5;124m'\u001b[39m]\n\u001b[0;32m      7\u001b[0m \u001b[38;5;66;03m# Create a histogram plot for movie ratings\u001b[39;00m\n",
      "\u001b[1;31mNameError\u001b[0m: name 'titles' is not defined"
     ]
    }
   ],
   "source": [
    "# Comparing the ratings of movies and shows\n",
    "\n",
    "# Filter the data for \"MOVIE\" and \"SHOW\" types\n",
    "movies = titles[titles['type'] == 'MOVIE']\n",
    "shows = titles[titles['type'] == 'SHOW']\n",
    "\n",
    "# Create a histogram plot for movie ratings\n",
    "sns.histplot(data=movies, x='imdb_score', label='MOVIE', alpha=0.5)\n",
    "\n",
    "# Create a histogram plot for show ratings\n",
    "sns.histplot(data=shows, x='imdb_score', label='SHOW', alpha=0.5)\n",
    "\n",
    "# Set labels and legend\n",
    "plt.xlabel('IMDb Score')\n",
    "plt.ylabel('Number of instances with a certain rating')\n",
    "plt.legend()"
   ]
  },
  {
   "cell_type": "code",
   "execution_count": 9,
   "id": "8c186222",
   "metadata": {},
   "outputs": [],
   "source": [
    "# We can see that the shows are generally rated better than the movies (despite there being significantly less shows compared \n",
    "# to the number of movies, there are more shows rated with 7.5 - 9.5)"
   ]
  },
  {
   "cell_type": "code",
   "execution_count": 10,
   "id": "fb2ae91c",
   "metadata": {
    "scrolled": false
   },
   "outputs": [
    {
     "ename": "NameError",
     "evalue": "name 'titles' is not defined",
     "output_type": "error",
     "traceback": [
      "\u001b[1;31m---------------------------------------------------------\u001b[0m",
      "\u001b[1;31mNameError\u001b[0m               Traceback (most recent call last)",
      "Cell \u001b[1;32mIn[10], line 3\u001b[0m\n\u001b[0;32m      1\u001b[0m \u001b[38;5;66;03m# What genres are the most common in the dataset?\u001b[39;00m\n\u001b[1;32m----> 3\u001b[0m genres \u001b[38;5;241m=\u001b[39m \u001b[43mtitles\u001b[49m[\u001b[38;5;124m'\u001b[39m\u001b[38;5;124mgenres\u001b[39m\u001b[38;5;124m'\u001b[39m]\n\u001b[0;32m      4\u001b[0m genres_split \u001b[38;5;241m=\u001b[39m genres\u001b[38;5;241m.\u001b[39mstr\u001b[38;5;241m.\u001b[39msplit(\u001b[38;5;124m'\u001b[39m\u001b[38;5;124m,\u001b[39m\u001b[38;5;124m'\u001b[39m)\n\u001b[0;32m      6\u001b[0m genres_cleaned \u001b[38;5;241m=\u001b[39m []\n",
      "\u001b[1;31mNameError\u001b[0m: name 'titles' is not defined"
     ]
    }
   ],
   "source": [
    "# What genres are the most common in the dataset?\n",
    "\n",
    "genres = titles['genres']\n",
    "genres_split = genres.str.split(',')\n",
    "    \n",
    "genres_cleaned = []\n",
    "for genre_list in genres_split:\n",
    "    cleaned_genres = [genre.replace(\"'\", \"\").replace(\"[\", \"\").replace(\"]\", \"\").replace(\" \", \"\") for genre in genre_list]\n",
    "    genres_cleaned.append(cleaned_genres)\n",
    "\n",
    "all_genres = []\n",
    "for genre in genres_cleaned:\n",
    "    for g in genre:\n",
    "         all_genres.append(g)\n",
    "\n",
    "# for g in all_genres:\n",
    "#     print(g)\n",
    "\n",
    "all_genres_series = pd.Series(all_genres)\n",
    "genre_counts = all_genres_series.value_counts()\n",
    "\n",
    "plt.figure(figsize=(10, 6))\n",
    "genre_counts.plot(kind='bar')\n",
    "plt.xlabel('Genre')\n",
    "plt.ylabel('Count')\n",
    "plt.title('Occurrences of Genres in Movies and Shows Dataset')\n",
    "plt.show()"
   ]
  },
  {
   "cell_type": "markdown",
   "id": "e69ca8c0",
   "metadata": {},
   "source": [
    "### Data Cleanup"
   ]
  },
  {
   "cell_type": "code",
   "execution_count": 11,
   "id": "0b732210",
   "metadata": {
    "scrolled": true
   },
   "outputs": [
    {
     "ename": "NameError",
     "evalue": "name 'titles' is not defined",
     "output_type": "error",
     "traceback": [
      "\u001b[1;31m---------------------------------------------------------\u001b[0m",
      "\u001b[1;31mNameError\u001b[0m               Traceback (most recent call last)",
      "Cell \u001b[1;32mIn[11], line 1\u001b[0m\n\u001b[1;32m----> 1\u001b[0m \u001b[43mtitles\u001b[49m\u001b[38;5;241m.\u001b[39misna()\u001b[38;5;241m.\u001b[39msum()\n",
      "\u001b[1;31mNameError\u001b[0m: name 'titles' is not defined"
     ]
    }
   ],
   "source": [
    "titles.isna().sum()"
   ]
  },
  {
   "cell_type": "code",
   "execution_count": 12,
   "id": "a9005888",
   "metadata": {},
   "outputs": [
    {
     "ename": "NameError",
     "evalue": "name 'titles' is not defined",
     "output_type": "error",
     "traceback": [
      "\u001b[1;31m---------------------------------------------------------\u001b[0m",
      "\u001b[1;31mNameError\u001b[0m               Traceback (most recent call last)",
      "Cell \u001b[1;32mIn[12], line 3\u001b[0m\n\u001b[0;32m      1\u001b[0m \u001b[38;5;66;03m# Checking which show types exist so that we can see whether there are any TV shows without a number of seasons \u001b[39;00m\n\u001b[0;32m      2\u001b[0m \u001b[38;5;66;03m# or if it's just movies (which naturally don't have seasons) \u001b[39;00m\n\u001b[1;32m----> 3\u001b[0m show_types \u001b[38;5;241m=\u001b[39m \u001b[38;5;28mset\u001b[39m(\u001b[43mtitles\u001b[49m\u001b[38;5;241m.\u001b[39mtype)\n\u001b[0;32m      4\u001b[0m show_types\n",
      "\u001b[1;31mNameError\u001b[0m: name 'titles' is not defined"
     ]
    }
   ],
   "source": [
    "# Checking which show types exist so that we can see whether there are any TV shows without a number of seasons \n",
    "# or if it's just movies (which naturally don't have seasons) \n",
    "show_types = set(titles.type)\n",
    "show_types"
   ]
  },
  {
   "cell_type": "code",
   "execution_count": 13,
   "id": "c8b88e67",
   "metadata": {},
   "outputs": [
    {
     "ename": "NameError",
     "evalue": "name 'titles' is not defined",
     "output_type": "error",
     "traceback": [
      "\u001b[1;31m---------------------------------------------------------\u001b[0m",
      "\u001b[1;31mNameError\u001b[0m               Traceback (most recent call last)",
      "Cell \u001b[1;32mIn[13], line 2\u001b[0m\n\u001b[0;32m      1\u001b[0m \u001b[38;5;66;03m# we conclude that the only instances without seasons are movies\u001b[39;00m\n\u001b[1;32m----> 2\u001b[0m tv_show_with_missing_seasons \u001b[38;5;241m=\u001b[39m \u001b[43mtitles\u001b[49m[(titles[\u001b[38;5;124m'\u001b[39m\u001b[38;5;124mtype\u001b[39m\u001b[38;5;124m'\u001b[39m] \u001b[38;5;241m==\u001b[39m \u001b[38;5;124m'\u001b[39m\u001b[38;5;124mSHOW\u001b[39m\u001b[38;5;124m'\u001b[39m) \u001b[38;5;241m&\u001b[39m titles[\u001b[38;5;124m'\u001b[39m\u001b[38;5;124mseasons\u001b[39m\u001b[38;5;124m'\u001b[39m]\u001b[38;5;241m.\u001b[39misnull()]\n\u001b[0;32m      3\u001b[0m tv_show_with_missing_seasons\n",
      "\u001b[1;31mNameError\u001b[0m: name 'titles' is not defined"
     ]
    }
   ],
   "source": [
    "# we conclude that the only instances without seasons are movies\n",
    "tv_show_with_missing_seasons = titles[(titles['type'] == 'SHOW') & titles['seasons'].isnull()]\n",
    "tv_show_with_missing_seasons"
   ]
  },
  {
   "cell_type": "code",
   "execution_count": 14,
   "id": "1b1ad779",
   "metadata": {},
   "outputs": [
    {
     "ename": "NameError",
     "evalue": "name 'titles' is not defined",
     "output_type": "error",
     "traceback": [
      "\u001b[1;31m---------------------------------------------------------\u001b[0m",
      "\u001b[1;31mNameError\u001b[0m               Traceback (most recent call last)",
      "Cell \u001b[1;32mIn[14], line 2\u001b[0m\n\u001b[0;32m      1\u001b[0m \u001b[38;5;66;03m# We simply set the number of seasons for movies to 0 - since movies don't have any seasons.\u001b[39;00m\n\u001b[1;32m----> 2\u001b[0m \u001b[43mtitles\u001b[49m\u001b[38;5;241m.\u001b[39mloc[titles[\u001b[38;5;124m\"\u001b[39m\u001b[38;5;124mseasons\u001b[39m\u001b[38;5;124m\"\u001b[39m]\u001b[38;5;241m.\u001b[39misna(), \u001b[38;5;124m\"\u001b[39m\u001b[38;5;124mseasons\u001b[39m\u001b[38;5;124m\"\u001b[39m] \u001b[38;5;241m=\u001b[39m \u001b[38;5;241m0.0\u001b[39m\n",
      "\u001b[1;31mNameError\u001b[0m: name 'titles' is not defined"
     ]
    }
   ],
   "source": [
    "# We simply set the number of seasons for movies to 0 - since movies don't have any seasons.\n",
    "titles.loc[titles[\"seasons\"].isna(), \"seasons\"] = 0.0"
   ]
  },
  {
   "cell_type": "code",
   "execution_count": 15,
   "id": "7d0f212c",
   "metadata": {
    "scrolled": true
   },
   "outputs": [
    {
     "ename": "NameError",
     "evalue": "name 'titles' is not defined",
     "output_type": "error",
     "traceback": [
      "\u001b[1;31m---------------------------------------------------------\u001b[0m",
      "\u001b[1;31mNameError\u001b[0m               Traceback (most recent call last)",
      "Cell \u001b[1;32mIn[15], line 1\u001b[0m\n\u001b[1;32m----> 1\u001b[0m \u001b[43mtitles\u001b[49m\u001b[38;5;241m.\u001b[39misna()\u001b[38;5;241m.\u001b[39msum()\n",
      "\u001b[1;31mNameError\u001b[0m: name 'titles' is not defined"
     ]
    }
   ],
   "source": [
    "titles.isna().sum()"
   ]
  },
  {
   "cell_type": "code",
   "execution_count": 16,
   "id": "e0ba5897",
   "metadata": {},
   "outputs": [
    {
     "ename": "NameError",
     "evalue": "name 'titles' is not defined",
     "output_type": "error",
     "traceback": [
      "\u001b[1;31m---------------------------------------------------------\u001b[0m",
      "\u001b[1;31mNameError\u001b[0m               Traceback (most recent call last)",
      "Cell \u001b[1;32mIn[16], line 2\u001b[0m\n\u001b[0;32m      1\u001b[0m \u001b[38;5;66;03m# The age certification column is not that interesting to us - we can drop it.\u001b[39;00m\n\u001b[1;32m----> 2\u001b[0m titles \u001b[38;5;241m=\u001b[39m \u001b[43mtitles\u001b[49m\u001b[38;5;241m.\u001b[39mdrop(columns\u001b[38;5;241m=\u001b[39m[\u001b[38;5;124m\"\u001b[39m\u001b[38;5;124mage_certification\u001b[39m\u001b[38;5;124m\"\u001b[39m])\n",
      "\u001b[1;31mNameError\u001b[0m: name 'titles' is not defined"
     ]
    }
   ],
   "source": [
    "# The age certification column is not that interesting to us - we can drop it.\n",
    "titles = titles.drop(columns=[\"age_certification\"])"
   ]
  },
  {
   "cell_type": "code",
   "execution_count": 17,
   "id": "7d4611cc",
   "metadata": {},
   "outputs": [
    {
     "ename": "NameError",
     "evalue": "name 'titles' is not defined",
     "output_type": "error",
     "traceback": [
      "\u001b[1;31m---------------------------------------------------------\u001b[0m",
      "\u001b[1;31mNameError\u001b[0m               Traceback (most recent call last)",
      "Cell \u001b[1;32mIn[17], line 2\u001b[0m\n\u001b[0;32m      1\u001b[0m \u001b[38;5;66;03m# We can also drop the instances without an imdb_id, since there are not a lot of them.\u001b[39;00m\n\u001b[1;32m----> 2\u001b[0m titles \u001b[38;5;241m=\u001b[39m \u001b[43mtitles\u001b[49m\u001b[38;5;241m.\u001b[39mdropna(subset\u001b[38;5;241m=\u001b[39m[\u001b[38;5;124m\"\u001b[39m\u001b[38;5;124mimdb_id\u001b[39m\u001b[38;5;124m\"\u001b[39m])\n",
      "\u001b[1;31mNameError\u001b[0m: name 'titles' is not defined"
     ]
    }
   ],
   "source": [
    "# We can also drop the instances without an imdb_id, since there are not a lot of them.\n",
    "titles = titles.dropna(subset=[\"imdb_id\"])"
   ]
  },
  {
   "cell_type": "code",
   "execution_count": 18,
   "id": "b282b6bd",
   "metadata": {},
   "outputs": [
    {
     "ename": "NameError",
     "evalue": "name 'titles' is not defined",
     "output_type": "error",
     "traceback": [
      "\u001b[1;31m---------------------------------------------------------\u001b[0m",
      "\u001b[1;31mNameError\u001b[0m               Traceback (most recent call last)",
      "Cell \u001b[1;32mIn[18], line 2\u001b[0m\n\u001b[0;32m      1\u001b[0m \u001b[38;5;66;03m# There are only 13 movies without description so we can just drop those instances\u001b[39;00m\n\u001b[1;32m----> 2\u001b[0m titles \u001b[38;5;241m=\u001b[39m \u001b[43mtitles\u001b[49m\u001b[38;5;241m.\u001b[39mdropna(subset\u001b[38;5;241m=\u001b[39m[\u001b[38;5;124m\"\u001b[39m\u001b[38;5;124mdescription\u001b[39m\u001b[38;5;124m\"\u001b[39m])\n",
      "\u001b[1;31mNameError\u001b[0m: name 'titles' is not defined"
     ]
    }
   ],
   "source": [
    "# There are only 13 movies without description so we can just drop those instances\n",
    "titles = titles.dropna(subset=[\"description\"])"
   ]
  },
  {
   "cell_type": "code",
   "execution_count": 19,
   "id": "b16d9aa9",
   "metadata": {},
   "outputs": [
    {
     "ename": "NameError",
     "evalue": "name 'titles' is not defined",
     "output_type": "error",
     "traceback": [
      "\u001b[1;31m---------------------------------------------------------\u001b[0m",
      "\u001b[1;31mNameError\u001b[0m               Traceback (most recent call last)",
      "Cell \u001b[1;32mIn[19], line 4\u001b[0m\n\u001b[0;32m      1\u001b[0m \u001b[38;5;66;03m# We want to compare the IMDB score with the TMDB score and see if there are \u001b[39;00m\n\u001b[0;32m      2\u001b[0m \u001b[38;5;66;03m#significant differences between them:\u001b[39;00m\n\u001b[1;32m----> 4\u001b[0m g1 \u001b[38;5;241m=\u001b[39m sns\u001b[38;5;241m.\u001b[39mkdeplot(data \u001b[38;5;241m=\u001b[39m \u001b[43mtitles\u001b[49m, x \u001b[38;5;241m=\u001b[39m \u001b[38;5;124m'\u001b[39m\u001b[38;5;124mimdb_score\u001b[39m\u001b[38;5;124m'\u001b[39m)\n\u001b[0;32m      5\u001b[0m g2 \u001b[38;5;241m=\u001b[39m sns\u001b[38;5;241m.\u001b[39mkdeplot(data \u001b[38;5;241m=\u001b[39m titles, x \u001b[38;5;241m=\u001b[39m \u001b[38;5;124m'\u001b[39m\u001b[38;5;124mtmdb_score\u001b[39m\u001b[38;5;124m'\u001b[39m)\n",
      "\u001b[1;31mNameError\u001b[0m: name 'titles' is not defined"
     ]
    }
   ],
   "source": [
    "# We want to compare the IMDB score with the TMDB score and see if there are \n",
    "#significant differences between them:\n",
    "\n",
    "g1 = sns.kdeplot(data = titles, x = 'imdb_score')\n",
    "g2 = sns.kdeplot(data = titles, x = 'tmdb_score')\n"
   ]
  },
  {
   "cell_type": "code",
   "execution_count": 20,
   "id": "ce7bb6da",
   "metadata": {},
   "outputs": [
    {
     "ename": "NameError",
     "evalue": "name 'titles' is not defined",
     "output_type": "error",
     "traceback": [
      "\u001b[1;31m---------------------------------------------------------\u001b[0m",
      "\u001b[1;31mNameError\u001b[0m               Traceback (most recent call last)",
      "Cell \u001b[1;32mIn[20], line 7\u001b[0m\n\u001b[0;32m      1\u001b[0m \u001b[38;5;66;03m# The distributions are similar. \u001b[39;00m\n\u001b[0;32m      2\u001b[0m \u001b[38;5;66;03m# We have also previously noticed that the correlation between imdb_score and tmdb_score is moderately\u001b[39;00m\n\u001b[0;32m      3\u001b[0m \u001b[38;5;66;03m# strong as well (~0.6)\u001b[39;00m\n\u001b[0;32m      4\u001b[0m \u001b[38;5;66;03m#Let's see if there are any instances that have a TMDB score,\u001b[39;00m\n\u001b[0;32m      5\u001b[0m \u001b[38;5;66;03m# that don't have an IMDB score\u001b[39;00m\n\u001b[1;32m----> 7\u001b[0m has_tmdb_no_imdb \u001b[38;5;241m=\u001b[39m \u001b[43mtitles\u001b[49m[(titles[\u001b[38;5;124m'\u001b[39m\u001b[38;5;124mimdb_score\u001b[39m\u001b[38;5;124m'\u001b[39m]\u001b[38;5;241m.\u001b[39misnull()) \u001b[38;5;241m&\u001b[39m (titles[\u001b[38;5;124m'\u001b[39m\u001b[38;5;124mtmdb_score\u001b[39m\u001b[38;5;124m'\u001b[39m])]\n\u001b[0;32m      8\u001b[0m has_tmdb_no_imdb\n",
      "\u001b[1;31mNameError\u001b[0m: name 'titles' is not defined"
     ]
    }
   ],
   "source": [
    "# The distributions are similar. \n",
    "# We have also previously noticed that the correlation between imdb_score and tmdb_score is moderately\n",
    "# strong as well (~0.6)\n",
    "#Let's see if there are any instances that have a TMDB score,\n",
    "# that don't have an IMDB score\n",
    "\n",
    "has_tmdb_no_imdb = titles[(titles['imdb_score'].isnull()) & (titles['tmdb_score'])]\n",
    "has_tmdb_no_imdb"
   ]
  },
  {
   "cell_type": "code",
   "execution_count": 27,
   "id": "070b964c",
   "metadata": {},
   "outputs": [],
   "source": [
    "# We can assign those TMDB scores to the corresponding IMDB scores and drop the TMDB column, \n",
    "# since we don't need two similar scores.\n",
    "\n",
    "titles.loc[titles[\"imdb_score\"].isna(), \"imdb_score\"] = titles[\"tmdb_score\"]\n",
    "titles = titles.drop(columns=[\"tmdb_score\"])"
   ]
  },
  {
   "cell_type": "code",
   "execution_count": 28,
   "id": "505ca201",
   "metadata": {},
   "outputs": [],
   "source": [
    "# We can fill out the remaining missing values with mean\n",
    "titles['imdb_score'].fillna(titles['imdb_score'].mean(), inplace=True)\n",
    "titles['imdb_votes'].fillna(titles['imdb_votes'].mean(), inplace=True)\n",
    "titles['tmdb_popularity'].fillna(titles['tmdb_popularity'].mean(), inplace=True)"
   ]
  },
  {
   "cell_type": "markdown",
   "id": "e01801a8",
   "metadata": {},
   "source": [
    "## \"Credits\" data frame"
   ]
  },
  {
   "cell_type": "code",
   "execution_count": 29,
   "id": "744f5ad4",
   "metadata": {},
   "outputs": [
    {
     "name": "stdout",
     "output_type": "stream",
     "text": [
      "Number of rows (instances):  39842\n",
      "Number of columns (attributes):  5\n"
     ]
    }
   ],
   "source": [
    "# Get the number of rows and columns in the \"credits\" data frame\n",
    "print(\"Number of rows (instances): \", credits.shape[0])\n",
    "print(\"Number of columns (attributes): \", credits.shape[1])"
   ]
  },
  {
   "cell_type": "code",
   "execution_count": 30,
   "id": "d1d84fff",
   "metadata": {},
   "outputs": [
    {
     "data": {
      "text/html": [
       "<div>\n",
       "<style scoped>\n",
       "    .dataframe tbody tr th:only-of-type {\n",
       "        vertical-align: middle;\n",
       "    }\n",
       "\n",
       "    .dataframe tbody tr th {\n",
       "        vertical-align: top;\n",
       "    }\n",
       "\n",
       "    .dataframe thead th {\n",
       "        text-align: right;\n",
       "    }\n",
       "</style>\n",
       "<table border=\"1\" class=\"dataframe\">\n",
       "  <thead>\n",
       "    <tr style=\"text-align: right;\">\n",
       "      <th></th>\n",
       "      <th>person_id</th>\n",
       "      <th>id</th>\n",
       "      <th>name</th>\n",
       "      <th>character</th>\n",
       "      <th>role</th>\n",
       "    </tr>\n",
       "  </thead>\n",
       "  <tbody>\n",
       "    <tr>\n",
       "      <th>0</th>\n",
       "      <td>21174</td>\n",
       "      <td>tm19248</td>\n",
       "      <td>Buster Keaton</td>\n",
       "      <td>Johnny Gray</td>\n",
       "      <td>ACTOR</td>\n",
       "    </tr>\n",
       "    <tr>\n",
       "      <th>1</th>\n",
       "      <td>28713</td>\n",
       "      <td>tm19248</td>\n",
       "      <td>Marion Mack</td>\n",
       "      <td>Annabelle Lee</td>\n",
       "      <td>ACTOR</td>\n",
       "    </tr>\n",
       "    <tr>\n",
       "      <th>2</th>\n",
       "      <td>28714</td>\n",
       "      <td>tm19248</td>\n",
       "      <td>Glen Cavender</td>\n",
       "      <td>Captain Anderson</td>\n",
       "      <td>ACTOR</td>\n",
       "    </tr>\n",
       "    <tr>\n",
       "      <th>3</th>\n",
       "      <td>28715</td>\n",
       "      <td>tm19248</td>\n",
       "      <td>Jim Farley</td>\n",
       "      <td>General Thatcher</td>\n",
       "      <td>ACTOR</td>\n",
       "    </tr>\n",
       "    <tr>\n",
       "      <th>4</th>\n",
       "      <td>27348</td>\n",
       "      <td>tm19248</td>\n",
       "      <td>Frederick Vroom</td>\n",
       "      <td>A Southern General</td>\n",
       "      <td>ACTOR</td>\n",
       "    </tr>\n",
       "  </tbody>\n",
       "</table>\n",
       "</div>"
      ],
      "text/plain": [
       "   person_id       id             name           character   role\n",
       "0      21174  tm19248    Buster Keaton         Johnny Gray  ACTOR\n",
       "1      28713  tm19248      Marion Mack       Annabelle Lee  ACTOR\n",
       "2      28714  tm19248    Glen Cavender    Captain Anderson  ACTOR\n",
       "3      28715  tm19248       Jim Farley    General Thatcher  ACTOR\n",
       "4      27348  tm19248  Frederick Vroom  A Southern General  ACTOR"
      ]
     },
     "execution_count": 30,
     "metadata": {},
     "output_type": "execute_result"
    }
   ],
   "source": [
    "# Will show the first few rows of the data frame\n",
    "credits.head()"
   ]
  },
  {
   "cell_type": "markdown",
   "id": "d26adaff",
   "metadata": {},
   "source": [
    "### About the data set: instances and attributes\n",
    "This data set contains 39842 credits of actors and directors on Paramount titles with 5 columns containing their information, including:\n",
    "\n",
    "- person_ID: The person ID on JustWatch.\n",
    "- id: The title ID on JustWatch.\n",
    "- name: The actor or director's name.\n",
    "- character_name: The character name.\n",
    "- role: ACTOR or DIRECTOR."
   ]
  },
  {
   "cell_type": "code",
   "execution_count": 31,
   "id": "7325e629",
   "metadata": {},
   "outputs": [
    {
     "name": "stdout",
     "output_type": "stream",
     "text": [
      "<class 'pandas.core.frame.DataFrame'>\n",
      "RangeIndex: 39842 entries, 0 to 39841\n",
      "Data columns (total 5 columns):\n",
      " #   Column     Non-Null Count  Dtype \n",
      "---  ------     --------------  ----- \n",
      " 0   person_id  39842 non-null  int64 \n",
      " 1   id         39842 non-null  object\n",
      " 2   name       39842 non-null  object\n",
      " 3   character  36729 non-null  object\n",
      " 4   role       39842 non-null  object\n",
      "dtypes: int64(1), object(4)\n",
      "memory usage: 1.5+ MB\n"
     ]
    }
   ],
   "source": [
    "# Getting the information about the DataFrame, including column names, data types, and non-null counts\n",
    "credits.info()"
   ]
  },
  {
   "cell_type": "markdown",
   "id": "43ffd4c3",
   "metadata": {},
   "source": [
    "### Data Analysis"
   ]
  },
  {
   "cell_type": "code",
   "execution_count": 32,
   "id": "9c1cc544",
   "metadata": {},
   "outputs": [
    {
     "data": {
      "image/png": "[encoded data removed]",
      "text/plain": [
       "<Figure size 640x480 with 1 Axes>"
      ]
     },
     "metadata": {},
     "output_type": "display_data"
    }
   ],
   "source": [
    "# How many of actors are there compared to directors?\n",
    "sns.countplot(x='role', data=credits)\n",
    "plt.title('Amount of actors compared to directors')\n",
    "plt.show()"
   ]
  },
  {
   "cell_type": "code",
   "execution_count": 33,
   "id": "b1adacc6",
   "metadata": {},
   "outputs": [],
   "source": [
    "# We can see that there are a lot more actors than there are directors - this makes sense, since most movies have multiple\n",
    "# actors, while there's usually one director"
   ]
  },
  {
   "cell_type": "code",
   "execution_count": 34,
   "id": "f564a6fc",
   "metadata": {},
   "outputs": [
    {
     "name": "stdout",
     "output_type": "stream",
     "text": [
      "Directors with the most actors:\n"
     ]
    },
    {
     "data": {
      "text/html": [
       "<div>\n",
       "<style scoped>\n",
       "    .dataframe tbody tr th:only-of-type {\n",
       "        vertical-align: middle;\n",
       "    }\n",
       "\n",
       "    .dataframe tbody tr th {\n",
       "        vertical-align: top;\n",
       "    }\n",
       "\n",
       "    .dataframe thead th {\n",
       "        text-align: right;\n",
       "    }\n",
       "</style>\n",
       "<table border=\"1\" class=\"dataframe\">\n",
       "  <thead>\n",
       "    <tr style=\"text-align: right;\">\n",
       "      <th></th>\n",
       "      <th>name</th>\n",
       "      <th>num_actors</th>\n",
       "    </tr>\n",
       "  </thead>\n",
       "  <tbody>\n",
       "    <tr>\n",
       "      <th>791</th>\n",
       "      <td>Joseph Kane</td>\n",
       "      <td>25</td>\n",
       "    </tr>\n",
       "    <tr>\n",
       "      <th>1326</th>\n",
       "      <td>Sam Newfield</td>\n",
       "      <td>20</td>\n",
       "    </tr>\n",
       "    <tr>\n",
       "      <th>1315</th>\n",
       "      <td>Ryan Polito</td>\n",
       "      <td>19</td>\n",
       "    </tr>\n",
       "    <tr>\n",
       "      <th>1263</th>\n",
       "      <td>Robert N. Bradbury</td>\n",
       "      <td>14</td>\n",
       "    </tr>\n",
       "    <tr>\n",
       "      <th>717</th>\n",
       "      <td>Joel Gallen</td>\n",
       "      <td>13</td>\n",
       "    </tr>\n",
       "  </tbody>\n",
       "</table>\n",
       "</div>"
      ],
      "text/plain": [
       "                    name  num_actors\n",
       "791          Joseph Kane          25\n",
       "1326        Sam Newfield          20\n",
       "1315         Ryan Polito          19\n",
       "1263  Robert N. Bradbury          14\n",
       "717          Joel Gallen          13"
      ]
     },
     "execution_count": 34,
     "metadata": {},
     "output_type": "execute_result"
    }
   ],
   "source": [
    "# Let's check which directors worked with the most actors\n",
    "\n",
    "# Filter for directors\n",
    "directors_data = credits[credits['role'] == 'DIRECTOR']\n",
    "\n",
    "# Group directors data by 'name_director' and count unique actors\n",
    "directors_with_most_actors = directors_data.groupby('name')['name'].count().reset_index(name='num_actors')\n",
    "\n",
    "# Sort directors by number of actors in descending order\n",
    "directors_with_most_actors = directors_with_most_actors.sort_values(by='num_actors', ascending=False)\n",
    "\n",
    "# Display the directors with the most actors\n",
    "print(\"Directors with the most actors:\")\n",
    "directors_with_most_actors.head()"
   ]
  },
  {
   "cell_type": "code",
   "execution_count": 35,
   "id": "ec18a525",
   "metadata": {},
   "outputs": [
    {
     "name": "stdout",
     "output_type": "stream",
     "text": [
      "Actors with the most directors:\n"
     ]
    },
    {
     "data": {
      "text/html": [
       "<div>\n",
       "<style scoped>\n",
       "    .dataframe tbody tr th:only-of-type {\n",
       "        vertical-align: middle;\n",
       "    }\n",
       "\n",
       "    .dataframe tbody tr th {\n",
       "        vertical-align: top;\n",
       "    }\n",
       "\n",
       "    .dataframe thead th {\n",
       "        text-align: right;\n",
       "    }\n",
       "</style>\n",
       "<table border=\"1\" class=\"dataframe\">\n",
       "  <thead>\n",
       "    <tr style=\"text-align: right;\">\n",
       "      <th></th>\n",
       "      <th>name</th>\n",
       "      <th>num_directors</th>\n",
       "    </tr>\n",
       "  </thead>\n",
       "  <tbody>\n",
       "    <tr>\n",
       "      <th>8770</th>\n",
       "      <td>George 'Gabby' Hayes</td>\n",
       "      <td>30</td>\n",
       "    </tr>\n",
       "    <tr>\n",
       "      <th>13061</th>\n",
       "      <td>John Wayne</td>\n",
       "      <td>26</td>\n",
       "    </tr>\n",
       "    <tr>\n",
       "      <th>22128</th>\n",
       "      <td>Roy Rogers</td>\n",
       "      <td>25</td>\n",
       "    </tr>\n",
       "    <tr>\n",
       "      <th>6919</th>\n",
       "      <td>Earl Dwire</td>\n",
       "      <td>25</td>\n",
       "    </tr>\n",
       "    <tr>\n",
       "      <th>8127</th>\n",
       "      <td>Forrest Taylor</td>\n",
       "      <td>21</td>\n",
       "    </tr>\n",
       "  </tbody>\n",
       "</table>\n",
       "</div>"
      ],
      "text/plain": [
       "                       name  num_directors\n",
       "8770   George 'Gabby' Hayes             30\n",
       "13061            John Wayne             26\n",
       "22128            Roy Rogers             25\n",
       "6919             Earl Dwire             25\n",
       "8127         Forrest Taylor             21"
      ]
     },
     "execution_count": 35,
     "metadata": {},
     "output_type": "execute_result"
    }
   ],
   "source": [
    "# Let's do the same thing with actors that worked with most directors:\n",
    "\n",
    "# Filter for actors\n",
    "actors_data = credits[credits['role'] == 'ACTOR']\n",
    "\n",
    "# Group directors data by 'name_actor' and count unique directors\n",
    "actors_with_most_directors = actors_data.groupby('name')['name'].count().reset_index(name='num_directors')\n",
    "\n",
    "# Sort actors by number of directors in descending order\n",
    "actors_with_most_directors = actors_with_most_directors.sort_values(by='num_directors', ascending=False)\n",
    "\n",
    "# Display the actors with the most directors\n",
    "print(\"Actors with the most directors:\")\n",
    "actors_with_most_directors.head()"
   ]
  },
  {
   "cell_type": "code",
   "execution_count": 36,
   "id": "abba8455",
   "metadata": {},
   "outputs": [
    {
     "data": {
      "text/html": [
       "<div>\n",
       "<style scoped>\n",
       "    .dataframe tbody tr th:only-of-type {\n",
       "        vertical-align: middle;\n",
       "    }\n",
       "\n",
       "    .dataframe tbody tr th {\n",
       "        vertical-align: top;\n",
       "    }\n",
       "\n",
       "    .dataframe thead th {\n",
       "        text-align: right;\n",
       "    }\n",
       "</style>\n",
       "<table border=\"1\" class=\"dataframe\">\n",
       "  <thead>\n",
       "    <tr style=\"text-align: right;\">\n",
       "      <th></th>\n",
       "      <th>Actor/Director Name</th>\n",
       "      <th>Number of Titles</th>\n",
       "    </tr>\n",
       "  </thead>\n",
       "  <tbody>\n",
       "    <tr>\n",
       "      <th>9033</th>\n",
       "      <td>George 'Gabby' Hayes</td>\n",
       "      <td>29</td>\n",
       "    </tr>\n",
       "    <tr>\n",
       "      <th>13505</th>\n",
       "      <td>John Wayne</td>\n",
       "      <td>26</td>\n",
       "    </tr>\n",
       "    <tr>\n",
       "      <th>7126</th>\n",
       "      <td>Earl Dwire</td>\n",
       "      <td>25</td>\n",
       "    </tr>\n",
       "    <tr>\n",
       "      <th>13831</th>\n",
       "      <td>Joseph Kane</td>\n",
       "      <td>25</td>\n",
       "    </tr>\n",
       "    <tr>\n",
       "      <th>22888</th>\n",
       "      <td>Roy Rogers</td>\n",
       "      <td>25</td>\n",
       "    </tr>\n",
       "  </tbody>\n",
       "</table>\n",
       "</div>"
      ],
      "text/plain": [
       "        Actor/Director Name  Number of Titles\n",
       "9033   George 'Gabby' Hayes                29\n",
       "13505            John Wayne                26\n",
       "7126             Earl Dwire                25\n",
       "13831           Joseph Kane                25\n",
       "22888            Roy Rogers                25"
      ]
     },
     "execution_count": 36,
     "metadata": {},
     "output_type": "execute_result"
    }
   ],
   "source": [
    "# Let's see the top actors and directors based on the number of movies they directed/starred in\n",
    "\n",
    "merged_datasets = pd.merge(titles, credits, on='id')\n",
    "most_popular_actors_directors = merged_datasets.groupby('name').agg({'id': 'count'}).reset_index()\n",
    "\n",
    "most_popular_actors_directors = most_popular_actors_directors.sort_values(by='id', ascending=False)\n",
    "\n",
    "most_popular_actors_directors.columns = ['Actor/Director Name', 'Number of Titles']\n",
    "most_popular_actors_directors.head()"
   ]
  },
  {
   "cell_type": "code",
   "execution_count": 37,
   "id": "85d36987",
   "metadata": {},
   "outputs": [
    {
     "data": {
      "image/png": "[encoded data removed]",
      "text/plain": [
       "<Figure size 1200x600 with 1 Axes>"
      ]
     },
     "metadata": {},
     "output_type": "display_data"
    },
    {
     "data": {
      "image/png": "[encoded data removed]",
      "text/plain": [
       "<Figure size 1200x600 with 1 Axes>"
      ]
     },
     "metadata": {},
     "output_type": "display_data"
    }
   ],
   "source": [
    "# We could check who the best actors or directors are based on their imdb average score \n",
    "\n",
    "# Actors\n",
    "# we use .filter(lambda x: len(x) >= 5) because I decided that that should be the minimum amount titles it takes to rate an actor\n",
    "top_actors = merged_datasets[merged_datasets['role'] == 'ACTOR'].groupby('name').filter(lambda x: len(x) >= 5)\n",
    "avg_imdb_scores_actors = top_actors.groupby('name')['imdb_score'].mean().reset_index()\n",
    "\n",
    "top_10_imdb_score_actors = avg_imdb_scores_actors.sort_values(by='imdb_score', ascending=False).head(10)\n",
    "\n",
    "sns.set(style=\"whitegrid\")\n",
    "plt.figure(figsize=(12, 6))\n",
    "plt.subplot(1, 2, 1)\n",
    "sns.boxplot(x='name', y='imdb_score', data=top_10_imdb_score_actors)\n",
    "plt.title('Average IMDb Scores for Top Actors', fontsize=16)\n",
    "plt.xlabel('Actor Name', fontsize=14)\n",
    "plt.ylabel('Average IMDb Score', fontsize=14)\n",
    "plt.xticks(rotation=90)\n",
    "plt.tight_layout()\n",
    "\n",
    "\n",
    "# Directors\n",
    "top_directors = merged_datasets[merged_datasets['role'] == 'DIRECTOR'].groupby('name').filter(lambda x: len(x) >= 5)\n",
    "avg_imdb_scores_directors = top_directors.groupby('name')['imdb_score'].mean().reset_index()\n",
    "\n",
    "top_10_imdb_score_directors = avg_imdb_scores_directors.sort_values(by='imdb_score', ascending=False).head(10)\n",
    "\n",
    "sns.set(style=\"whitegrid\")\n",
    "plt.figure(figsize=(12, 6))\n",
    "plt.subplot(1, 2, 2)\n",
    "sns.boxplot(x='name', y='imdb_score', data=top_10_imdb_score_directors)\n",
    "plt.title('Average IMDb Scores for Top Directors', fontsize=16)\n",
    "plt.xlabel('Director Name', fontsize=14)\n",
    "plt.ylabel('Average IMDb Score', fontsize=14)\n",
    "plt.xticks(rotation=90)\n",
    "plt.tight_layout()\n"
   ]
  },
  {
   "cell_type": "markdown",
   "id": "e25c55da",
   "metadata": {},
   "source": [
    "### Data Cleanup"
   ]
  },
  {
   "cell_type": "code",
   "execution_count": 38,
   "id": "9fc3da14",
   "metadata": {},
   "outputs": [
    {
     "data": {
      "text/plain": [
       "person_id       0\n",
       "id              0\n",
       "name            0\n",
       "character    3113\n",
       "role            0\n",
       "dtype: int64"
      ]
     },
     "execution_count": 38,
     "metadata": {},
     "output_type": "execute_result"
    }
   ],
   "source": [
    "credits.isna().sum()"
   ]
  },
  {
   "cell_type": "code",
   "execution_count": 39,
   "id": "2ffc6007",
   "metadata": {},
   "outputs": [
    {
     "data": {
      "text/html": [
       "<div>\n",
       "<style scoped>\n",
       "    .dataframe tbody tr th:only-of-type {\n",
       "        vertical-align: middle;\n",
       "    }\n",
       "\n",
       "    .dataframe tbody tr th {\n",
       "        vertical-align: top;\n",
       "    }\n",
       "\n",
       "    .dataframe thead th {\n",
       "        text-align: right;\n",
       "    }\n",
       "</style>\n",
       "<table border=\"1\" class=\"dataframe\">\n",
       "  <thead>\n",
       "    <tr style=\"text-align: right;\">\n",
       "      <th></th>\n",
       "      <th>person_id</th>\n",
       "      <th>id</th>\n",
       "      <th>name</th>\n",
       "      <th>character</th>\n",
       "      <th>role</th>\n",
       "    </tr>\n",
       "  </thead>\n",
       "  <tbody>\n",
       "    <tr>\n",
       "      <th>478</th>\n",
       "      <td>7755</td>\n",
       "      <td>tm59314</td>\n",
       "      <td>Bill Baldwin</td>\n",
       "      <td>NaN</td>\n",
       "      <td>ACTOR</td>\n",
       "    </tr>\n",
       "    <tr>\n",
       "      <th>479</th>\n",
       "      <td>836229</td>\n",
       "      <td>tm59314</td>\n",
       "      <td>Teddy Buckner</td>\n",
       "      <td>NaN</td>\n",
       "      <td>ACTOR</td>\n",
       "    </tr>\n",
       "    <tr>\n",
       "      <th>480</th>\n",
       "      <td>37829</td>\n",
       "      <td>tm59314</td>\n",
       "      <td>Frank Cady</td>\n",
       "      <td>NaN</td>\n",
       "      <td>ACTOR</td>\n",
       "    </tr>\n",
       "    <tr>\n",
       "      <th>481</th>\n",
       "      <td>57645</td>\n",
       "      <td>tm59314</td>\n",
       "      <td>Roy Engel</td>\n",
       "      <td>NaN</td>\n",
       "      <td>ACTOR</td>\n",
       "    </tr>\n",
       "    <tr>\n",
       "      <th>482</th>\n",
       "      <td>27257</td>\n",
       "      <td>tm59314</td>\n",
       "      <td>Douglas Evans</td>\n",
       "      <td>NaN</td>\n",
       "      <td>ACTOR</td>\n",
       "    </tr>\n",
       "    <tr>\n",
       "      <th>...</th>\n",
       "      <td>...</td>\n",
       "      <td>...</td>\n",
       "      <td>...</td>\n",
       "      <td>...</td>\n",
       "      <td>...</td>\n",
       "    </tr>\n",
       "    <tr>\n",
       "      <th>39601</th>\n",
       "      <td>1402758</td>\n",
       "      <td>tm960072</td>\n",
       "      <td>Josh Johnson</td>\n",
       "      <td>NaN</td>\n",
       "      <td>ACTOR</td>\n",
       "    </tr>\n",
       "    <tr>\n",
       "      <th>39602</th>\n",
       "      <td>85045</td>\n",
       "      <td>tm960072</td>\n",
       "      <td>Trevor Noah</td>\n",
       "      <td>NaN</td>\n",
       "      <td>ACTOR</td>\n",
       "    </tr>\n",
       "    <tr>\n",
       "      <th>39769</th>\n",
       "      <td>33102</td>\n",
       "      <td>tm1068951</td>\n",
       "      <td>Eve Plumb</td>\n",
       "      <td>NaN</td>\n",
       "      <td>ACTOR</td>\n",
       "    </tr>\n",
       "    <tr>\n",
       "      <th>39770</th>\n",
       "      <td>116168</td>\n",
       "      <td>tm1068951</td>\n",
       "      <td>Susan Olsen</td>\n",
       "      <td>NaN</td>\n",
       "      <td>ACTOR</td>\n",
       "    </tr>\n",
       "    <tr>\n",
       "      <th>39839</th>\n",
       "      <td>2078684</td>\n",
       "      <td>tm1106415</td>\n",
       "      <td>Guillem Balagué</td>\n",
       "      <td>NaN</td>\n",
       "      <td>ACTOR</td>\n",
       "    </tr>\n",
       "  </tbody>\n",
       "</table>\n",
       "<p>935 rows × 5 columns</p>\n",
       "</div>"
      ],
      "text/plain": [
       "       person_id         id             name character   role\n",
       "478         7755    tm59314     Bill Baldwin       NaN  ACTOR\n",
       "479       836229    tm59314    Teddy Buckner       NaN  ACTOR\n",
       "480        37829    tm59314       Frank Cady       NaN  ACTOR\n",
       "481        57645    tm59314        Roy Engel       NaN  ACTOR\n",
       "482        27257    tm59314    Douglas Evans       NaN  ACTOR\n",
       "...          ...        ...              ...       ...    ...\n",
       "39601    1402758   tm960072     Josh Johnson       NaN  ACTOR\n",
       "39602      85045   tm960072      Trevor Noah       NaN  ACTOR\n",
       "39769      33102  tm1068951        Eve Plumb       NaN  ACTOR\n",
       "39770     116168  tm1068951      Susan Olsen       NaN  ACTOR\n",
       "39839    2078684  tm1106415  Guillem Balagué       NaN  ACTOR\n",
       "\n",
       "[935 rows x 5 columns]"
      ]
     },
     "execution_count": 39,
     "metadata": {},
     "output_type": "execute_result"
    }
   ],
   "source": [
    "# It makes sense that the people with 'DIRECTOR' roles don't have a 'character' attribute.\n",
    "# Let's check if there are any actors that don't have a 'character'.\n",
    "\n",
    "actors_with_missing_characters = credits[(credits['role'] == 'ACTOR') & credits['character'].isna()]\n",
    "actors_with_missing_characters"
   ]
  },
  {
   "cell_type": "code",
   "execution_count": 40,
   "id": "9a9d12a1",
   "metadata": {},
   "outputs": [],
   "source": [
    "credits.loc[credits['role'] == 'DIRECTOR', 'character'] = 'director'"
   ]
  },
  {
   "cell_type": "code",
   "execution_count": 41,
   "id": "74a548b2",
   "metadata": {},
   "outputs": [],
   "source": [
    "# There are 935 instances of actors without characters - it's not a huge percentage, so we can just remove them from \n",
    "# the data set\n",
    "credits.dropna(subset=['character'], inplace=True)\n",
    "credits.reset_index(drop=True, inplace=True)"
   ]
  },
  {
   "cell_type": "markdown",
   "id": "41457bcd",
   "metadata": {},
   "source": [
    "# New datasets"
   ]
  },
  {
   "cell_type": "code",
   "execution_count": 2,
   "id": "8254776f",
   "metadata": {},
   "outputs": [
    {
     "ename": "NameError",
     "evalue": "name 'titles' is not defined",
     "output_type": "error",
     "traceback": [
      "\u001b[1;31m---------------------------------------------------------\u001b[0m",
      "\u001b[1;31mNameError\u001b[0m               Traceback (most recent call last)",
      "Cell \u001b[1;32mIn[2], line 1\u001b[0m\n\u001b[1;32m----> 1\u001b[0m \u001b[43mtitles\u001b[49m\u001b[38;5;241m.\u001b[39mto_csv(\u001b[38;5;124m'\u001b[39m\u001b[38;5;124mtitles_preprocessed.csv\u001b[39m\u001b[38;5;124m'\u001b[39m, index\u001b[38;5;241m=\u001b[39m\u001b[38;5;28;01mFalse\u001b[39;00m)\n\u001b[0;32m      2\u001b[0m credits\u001b[38;5;241m.\u001b[39mto_csv(\u001b[38;5;124m'\u001b[39m\u001b[38;5;124mcredits_preprocessed.csv\u001b[39m\u001b[38;5;124m'\u001b[39m, index\u001b[38;5;241m=\u001b[39m\u001b[38;5;28;01mFalse\u001b[39;00m)\n",
      "\u001b[1;31mNameError\u001b[0m: name 'titles' is not defined"
     ]
    }
   ],
   "source": [
    "titles.to_csv('titles_preprocessed.csv', index=False)\n",
    "credits.to_csv('credits_preprocessed.csv', index=False)"
   ]
  }
 ],
 "metadata": {
  "kernelspec": {
   "display_name": "Python 3 (ipykernel)",
   "language": "python",
   "name": "python3"
  },
  "language_info": {
   "codemirror_mode": {
    "name": "ipython",
    "version": 3
   },
   "file_extension": ".py",
   "mimetype": "text/x-python",
   "name": "python",
   "nbconvert_exporter": "python",
   "pygments_lexer": "ipython3",
   "version": "3.10.1"
  }
 },
 "nbformat": 4,
 "nbformat_minor": 5
}
