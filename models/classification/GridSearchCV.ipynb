{
 "cells": [
  {
   "cell_type": "markdown",
   "id": "ab3d94f6",
   "metadata": {},
   "source": [
    "# GridSearchCV\n"
   ]
  },
  {
   "cell_type": "markdown",
   "id": "9c5d8b8e",
   "metadata": {},
   "source": [
    "GridSearchCV is a technique for hyperparameter tuning in machine learning, which involves searching for the best set of hyperparameters that result in the optimal performance of a model.\n",
    "\n",
    "In GridSearchCV, a set of hyperparameters and their respective values are predefined, and the algorithm evaluates the performance of the model for each combination of these hyperparameters. The evaluation is typically done using cross-validation, where the dataset is split into several folds, and the model is trained on a portion of the data and tested on the remaining part. This helps to avoid overfitting and provides a more reliable estimate of the model's performance.\n",
    "\n",
    "GridSearchCV exhaustively searches over all the possible hyperparameter combinations, and returns the combination that produces the best performance on the validation data. The performance metric used for evaluation can be specified by the user, and can vary depending on the problem at hand."
   ]
  },
  {
   "cell_type": "code",
   "execution_count": 2,
   "id": "67425df7",
   "metadata": {},
   "outputs": [],
   "source": [
    "import numpy as np\n",
    "import pandas as pd\n",
    "import matplotlib.pyplot as plt"
   ]
  },
  {
   "cell_type": "code",
   "execution_count": 3,
   "id": "8683fbca",
   "metadata": {},
   "outputs": [],
   "source": [
    "import os"
   ]
  },
  {
   "cell_type": "code",
   "execution_count": 13,
   "id": "bad62e19",
   "metadata": {},
   "outputs": [],
   "source": [
    "# Importing the training and testing sets from the KNN file\n",
    "import pickle\n",
    "\n",
    "# Load the data from the file\n",
    "with open('data.pkl', 'rb') as f:\n",
    "    X_train, X_test, Y_train, Y_test = pickle.load(f)"
   ]
  },
  {
   "cell_type": "code",
   "execution_count": 17,
   "id": "d5e878e6",
   "metadata": {},
   "outputs": [],
   "source": [
    "from sklearn.neighbors import KNeighborsClassifier \n",
    "from sklearn.metrics import classification_report\n",
    "from termcolor import colored\n",
    "\n",
    "def report(model, x, y, text = \"training\"):\n",
    "    y_pred = model.predict(x)\n",
    "    \n",
    "    print(colored(\"Classification report for model {} on {} data\".format(type(model).__name__, text), \"green\"))\n",
    "    print(\"---------------------------------------------------------------------------------\")\n",
    "    print(classification_report(y, y_pred, zero_division=True))"
   ]
  },
  {
   "cell_type": "code",
   "execution_count": 18,
   "id": "8c00d533",
   "metadata": {},
   "outputs": [],
   "source": [
    "# gini: measures impurity by calculating the probability of misclassifying a randomly chosen data point in that node\n",
    "# entropy: measures impurity by calculating the entropy of the class\n",
    "# This model will try both criterions to decide on how to split the decision tree\n",
    "\n",
    "# The grid search will also try different values of the maximum depth of the decision tree (2, 4, 6, 8)\n",
    "params = {'criterion': ['gini', 'entropy'], \n",
    "          'max_depth': [2, 4, 6, 8]\n",
    "         }\n",
    "\n",
    "params_grid = {'n_neighbors': range(10, 50, 5),\n",
    "               'weights': ['uniform', 'distance'],\n",
    "                'p': [1, 2]}"
   ]
  },
  {
   "cell_type": "code",
   "execution_count": 22,
   "id": "e9a54d26",
   "metadata": {},
   "outputs": [
    {
     "name": "stdout",
     "output_type": "stream",
     "text": [
      "Fitting 6 folds for each of 32 candidates, totalling 192 fits\n",
      "[CV 1/6] END n_neighbors=10, p=1, weights=uniform;, score=0.893 total time=   0.0s\n",
      "[CV 2/6] END n_neighbors=10, p=1, weights=uniform;, score=0.898 total time=   0.0s\n",
      "[CV 3/6] END n_neighbors=10, p=1, weights=uniform;, score=0.890 total time=   0.0s\n",
      "[CV 4/6] END n_neighbors=10, p=1, weights=uniform;, score=0.894 total time=   0.0s\n",
      "[CV 5/6] END n_neighbors=10, p=1, weights=uniform;, score=0.890 total time=   0.0s\n",
      "[CV 6/6] END n_neighbors=10, p=1, weights=uniform;, score=0.885 total time=   0.0s\n",
      "[CV 1/6] END n_neighbors=10, p=1, weights=distance;, score=0.968 total time=   0.0s\n",
      "[CV 2/6] END n_neighbors=10, p=1, weights=distance;, score=0.972 total time=   0.0s\n",
      "[CV 3/6] END n_neighbors=10, p=1, weights=distance;, score=0.970 total time=   0.0s\n",
      "[CV 4/6] END n_neighbors=10, p=1, weights=distance;, score=0.970 total time=   0.0s\n",
      "[CV 5/6] END n_neighbors=10, p=1, weights=distance;, score=0.968 total time=   0.0s\n",
      "[CV 6/6] END n_neighbors=10, p=1, weights=distance;, score=0.961 total time=   0.0s\n",
      "[CV 1/6] END n_neighbors=10, p=2, weights=uniform;, score=0.893 total time=   0.0s\n",
      "[CV 2/6] END n_neighbors=10, p=2, weights=uniform;, score=0.898 total time=   0.0s\n",
      "[CV 3/6] END n_neighbors=10, p=2, weights=uniform;, score=0.890 total time=   0.0s\n",
      "[CV 4/6] END n_neighbors=10, p=2, weights=uniform;, score=0.894 total time=   0.0s\n",
      "[CV 5/6] END n_neighbors=10, p=2, weights=uniform;, score=0.890 total time=   0.0s\n",
      "[CV 6/6] END n_neighbors=10, p=2, weights=uniform;, score=0.885 total time=   0.0s\n",
      "[CV 1/6] END n_neighbors=10, p=2, weights=distance;, score=0.968 total time=   0.0s\n",
      "[CV 2/6] END n_neighbors=10, p=2, weights=distance;, score=0.972 total time=   0.0s\n",
      "[CV 3/6] END n_neighbors=10, p=2, weights=distance;, score=0.970 total time=   0.0s\n",
      "[CV 4/6] END n_neighbors=10, p=2, weights=distance;, score=0.970 total time=   0.0s\n",
      "[CV 5/6] END n_neighbors=10, p=2, weights=distance;, score=0.968 total time=   0.0s\n",
      "[CV 6/6] END n_neighbors=10, p=2, weights=distance;, score=0.961 total time=   0.0s\n",
      "[CV 1/6] END n_neighbors=15, p=1, weights=uniform;, score=0.876 total time=   0.0s\n",
      "[CV 2/6] END n_neighbors=15, p=1, weights=uniform;, score=0.881 total time=   0.0s\n",
      "[CV 3/6] END n_neighbors=15, p=1, weights=uniform;, score=0.881 total time=   0.0s\n",
      "[CV 4/6] END n_neighbors=15, p=1, weights=uniform;, score=0.883 total time=   0.0s\n",
      "[CV 5/6] END n_neighbors=15, p=1, weights=uniform;, score=0.870 total time=   0.0s\n",
      "[CV 6/6] END n_neighbors=15, p=1, weights=uniform;, score=0.869 total time=   0.0s\n",
      "[CV 1/6] END n_neighbors=15, p=1, weights=distance;, score=0.968 total time=   0.0s\n",
      "[CV 2/6] END n_neighbors=15, p=1, weights=distance;, score=0.973 total time=   0.0s\n",
      "[CV 3/6] END n_neighbors=15, p=1, weights=distance;, score=0.970 total time=   0.0s\n",
      "[CV 4/6] END n_neighbors=15, p=1, weights=distance;, score=0.971 total time=   0.0s\n",
      "[CV 5/6] END n_neighbors=15, p=1, weights=distance;, score=0.968 total time=   0.0s\n",
      "[CV 6/6] END n_neighbors=15, p=1, weights=distance;, score=0.962 total time=   0.0s\n",
      "[CV 1/6] END n_neighbors=15, p=2, weights=uniform;, score=0.876 total time=   0.0s\n",
      "[CV 2/6] END n_neighbors=15, p=2, weights=uniform;, score=0.881 total time=   0.0s\n",
      "[CV 3/6] END n_neighbors=15, p=2, weights=uniform;, score=0.881 total time=   0.0s\n",
      "[CV 4/6] END n_neighbors=15, p=2, weights=uniform;, score=0.883 total time=   0.0s\n",
      "[CV 5/6] END n_neighbors=15, p=2, weights=uniform;, score=0.870 total time=   0.0s\n",
      "[CV 6/6] END n_neighbors=15, p=2, weights=uniform;, score=0.869 total time=   0.0s\n",
      "[CV 1/6] END n_neighbors=15, p=2, weights=distance;, score=0.968 total time=   0.0s\n",
      "[CV 2/6] END n_neighbors=15, p=2, weights=distance;, score=0.973 total time=   0.0s\n",
      "[CV 3/6] END n_neighbors=15, p=2, weights=distance;, score=0.970 total time=   0.0s\n",
      "[CV 4/6] END n_neighbors=15, p=2, weights=distance;, score=0.971 total time=   0.0s\n",
      "[CV 5/6] END n_neighbors=15, p=2, weights=distance;, score=0.968 total time=   0.0s\n",
      "[CV 6/6] END n_neighbors=15, p=2, weights=distance;, score=0.962 total time=   0.0s\n",
      "[CV 1/6] END n_neighbors=20, p=1, weights=uniform;, score=0.860 total time=   0.0s\n",
      "[CV 2/6] END n_neighbors=20, p=1, weights=uniform;, score=0.870 total time=   0.0s\n",
      "[CV 3/6] END n_neighbors=20, p=1, weights=uniform;, score=0.870 total time=   0.0s\n",
      "[CV 4/6] END n_neighbors=20, p=1, weights=uniform;, score=0.868 total time=   0.0s\n",
      "[CV 5/6] END n_neighbors=20, p=1, weights=uniform;, score=0.857 total time=   0.0s\n",
      "[CV 6/6] END n_neighbors=20, p=1, weights=uniform;, score=0.856 total time=   0.0s\n",
      "[CV 1/6] END n_neighbors=20, p=1, weights=distance;, score=0.970 total time=   0.0s\n",
      "[CV 2/6] END n_neighbors=20, p=1, weights=distance;, score=0.974 total time=   0.0s\n",
      "[CV 3/6] END n_neighbors=20, p=1, weights=distance;, score=0.969 total time=   0.0s\n",
      "[CV 4/6] END n_neighbors=20, p=1, weights=distance;, score=0.971 total time=   0.0s\n",
      "[CV 5/6] END n_neighbors=20, p=1, weights=distance;, score=0.968 total time=   0.0s\n",
      "[CV 6/6] END n_neighbors=20, p=1, weights=distance;, score=0.961 total time=   0.0s\n",
      "[CV 1/6] END n_neighbors=20, p=2, weights=uniform;, score=0.860 total time=   0.0s\n",
      "[CV 2/6] END n_neighbors=20, p=2, weights=uniform;, score=0.870 total time=   0.0s\n",
      "[CV 3/6] END n_neighbors=20, p=2, weights=uniform;, score=0.870 total time=   0.0s\n",
      "[CV 4/6] END n_neighbors=20, p=2, weights=uniform;, score=0.868 total time=   0.0s\n",
      "[CV 5/6] END n_neighbors=20, p=2, weights=uniform;, score=0.857 total time=   0.0s\n",
      "[CV 6/6] END n_neighbors=20, p=2, weights=uniform;, score=0.856 total time=   0.0s\n",
      "[CV 1/6] END n_neighbors=20, p=2, weights=distance;, score=0.970 total time=   0.0s\n",
      "[CV 2/6] END n_neighbors=20, p=2, weights=distance;, score=0.974 total time=   0.0s\n",
      "[CV 3/6] END n_neighbors=20, p=2, weights=distance;, score=0.969 total time=   0.0s\n",
      "[CV 4/6] END n_neighbors=20, p=2, weights=distance;, score=0.971 total time=   0.0s\n",
      "[CV 5/6] END n_neighbors=20, p=2, weights=distance;, score=0.968 total time=   0.0s\n",
      "[CV 6/6] END n_neighbors=20, p=2, weights=distance;, score=0.961 total time=   0.0s\n",
      "[CV 1/6] END n_neighbors=25, p=1, weights=uniform;, score=0.854 total time=   0.0s\n",
      "[CV 2/6] END n_neighbors=25, p=1, weights=uniform;, score=0.867 total time=   0.0s\n",
      "[CV 3/6] END n_neighbors=25, p=1, weights=uniform;, score=0.859 total time=   0.1s\n",
      "[CV 4/6] END n_neighbors=25, p=1, weights=uniform;, score=0.862 total time=   0.0s\n",
      "[CV 5/6] END n_neighbors=25, p=1, weights=uniform;, score=0.850 total time=   0.0s\n",
      "[CV 6/6] END n_neighbors=25, p=1, weights=uniform;, score=0.852 total time=   0.0s\n",
      "[CV 1/6] END n_neighbors=25, p=1, weights=distance;, score=0.970 total time=   0.0s\n",
      "[CV 2/6] END n_neighbors=25, p=1, weights=distance;, score=0.974 total time=   0.0s\n",
      "[CV 3/6] END n_neighbors=25, p=1, weights=distance;, score=0.969 total time=   0.0s\n",
      "[CV 4/6] END n_neighbors=25, p=1, weights=distance;, score=0.970 total time=   0.0s\n",
      "[CV 5/6] END n_neighbors=25, p=1, weights=distance;, score=0.968 total time=   0.0s\n",
      "[CV 6/6] END n_neighbors=25, p=1, weights=distance;, score=0.962 total time=   0.0s\n",
      "[CV 1/6] END n_neighbors=25, p=2, weights=uniform;, score=0.854 total time=   0.1s\n",
      "[CV 2/6] END n_neighbors=25, p=2, weights=uniform;, score=0.867 total time=   0.0s\n",
      "[CV 3/6] END n_neighbors=25, p=2, weights=uniform;, score=0.859 total time=   0.0s\n",
      "[CV 4/6] END n_neighbors=25, p=2, weights=uniform;, score=0.862 total time=   0.0s\n",
      "[CV 5/6] END n_neighbors=25, p=2, weights=uniform;, score=0.850 total time=   0.0s\n",
      "[CV 6/6] END n_neighbors=25, p=2, weights=uniform;, score=0.852 total time=   0.0s\n",
      "[CV 1/6] END n_neighbors=25, p=2, weights=distance;, score=0.970 total time=   0.0s\n",
      "[CV 2/6] END n_neighbors=25, p=2, weights=distance;, score=0.974 total time=   0.0s\n",
      "[CV 3/6] END n_neighbors=25, p=2, weights=distance;, score=0.969 total time=   0.0s\n",
      "[CV 4/6] END n_neighbors=25, p=2, weights=distance;, score=0.970 total time=   0.0s\n",
      "[CV 5/6] END n_neighbors=25, p=2, weights=distance;, score=0.968 total time=   0.0s\n",
      "[CV 6/6] END n_neighbors=25, p=2, weights=distance;, score=0.962 total time=   0.0s\n",
      "[CV 1/6] END n_neighbors=30, p=1, weights=uniform;, score=0.845 total time=   0.0s\n",
      "[CV 2/6] END n_neighbors=30, p=1, weights=uniform;, score=0.859 total time=   0.0s\n"
     ]
    },
    {
     "name": "stdout",
     "output_type": "stream",
     "text": [
      "[CV 3/6] END n_neighbors=30, p=1, weights=uniform;, score=0.850 total time=   0.0s\n",
      "[CV 4/6] END n_neighbors=30, p=1, weights=uniform;, score=0.853 total time=   0.0s\n",
      "[CV 5/6] END n_neighbors=30, p=1, weights=uniform;, score=0.849 total time=   0.0s\n",
      "[CV 6/6] END n_neighbors=30, p=1, weights=uniform;, score=0.844 total time=   0.0s\n",
      "[CV 1/6] END n_neighbors=30, p=1, weights=distance;, score=0.970 total time=   0.0s\n",
      "[CV 2/6] END n_neighbors=30, p=1, weights=distance;, score=0.973 total time=   0.0s\n",
      "[CV 3/6] END n_neighbors=30, p=1, weights=distance;, score=0.969 total time=   0.0s\n",
      "[CV 4/6] END n_neighbors=30, p=1, weights=distance;, score=0.970 total time=   0.0s\n",
      "[CV 5/6] END n_neighbors=30, p=1, weights=distance;, score=0.969 total time=   0.0s\n",
      "[CV 6/6] END n_neighbors=30, p=1, weights=distance;, score=0.961 total time=   0.0s\n",
      "[CV 1/6] END n_neighbors=30, p=2, weights=uniform;, score=0.845 total time=   0.0s\n",
      "[CV 2/6] END n_neighbors=30, p=2, weights=uniform;, score=0.859 total time=   0.0s\n",
      "[CV 3/6] END n_neighbors=30, p=2, weights=uniform;, score=0.850 total time=   0.0s\n",
      "[CV 4/6] END n_neighbors=30, p=2, weights=uniform;, score=0.853 total time=   0.0s\n",
      "[CV 5/6] END n_neighbors=30, p=2, weights=uniform;, score=0.849 total time=   0.0s\n",
      "[CV 6/6] END n_neighbors=30, p=2, weights=uniform;, score=0.844 total time=   0.0s\n",
      "[CV 1/6] END n_neighbors=30, p=2, weights=distance;, score=0.970 total time=   0.0s\n",
      "[CV 2/6] END n_neighbors=30, p=2, weights=distance;, score=0.973 total time=   0.0s\n",
      "[CV 3/6] END n_neighbors=30, p=2, weights=distance;, score=0.969 total time=   0.0s\n",
      "[CV 4/6] END n_neighbors=30, p=2, weights=distance;, score=0.970 total time=   0.0s\n",
      "[CV 5/6] END n_neighbors=30, p=2, weights=distance;, score=0.969 total time=   0.0s\n",
      "[CV 6/6] END n_neighbors=30, p=2, weights=distance;, score=0.961 total time=   0.0s\n",
      "[CV 1/6] END n_neighbors=35, p=1, weights=uniform;, score=0.842 total time=   0.0s\n",
      "[CV 2/6] END n_neighbors=35, p=1, weights=uniform;, score=0.850 total time=   0.0s\n",
      "[CV 3/6] END n_neighbors=35, p=1, weights=uniform;, score=0.845 total time=   0.0s\n",
      "[CV 4/6] END n_neighbors=35, p=1, weights=uniform;, score=0.847 total time=   0.0s\n",
      "[CV 5/6] END n_neighbors=35, p=1, weights=uniform;, score=0.843 total time=   0.0s\n",
      "[CV 6/6] END n_neighbors=35, p=1, weights=uniform;, score=0.840 total time=   0.0s\n",
      "[CV 1/6] END n_neighbors=35, p=1, weights=distance;, score=0.971 total time=   0.0s\n",
      "[CV 2/6] END n_neighbors=35, p=1, weights=distance;, score=0.973 total time=   0.0s\n",
      "[CV 3/6] END n_neighbors=35, p=1, weights=distance;, score=0.970 total time=   0.0s\n",
      "[CV 4/6] END n_neighbors=35, p=1, weights=distance;, score=0.972 total time=   0.0s\n",
      "[CV 5/6] END n_neighbors=35, p=1, weights=distance;, score=0.969 total time=   0.0s\n",
      "[CV 6/6] END n_neighbors=35, p=1, weights=distance;, score=0.962 total time=   0.0s\n",
      "[CV 1/6] END n_neighbors=35, p=2, weights=uniform;, score=0.842 total time=   0.0s\n",
      "[CV 2/6] END n_neighbors=35, p=2, weights=uniform;, score=0.850 total time=   0.0s\n",
      "[CV 3/6] END n_neighbors=35, p=2, weights=uniform;, score=0.845 total time=   0.0s\n",
      "[CV 4/6] END n_neighbors=35, p=2, weights=uniform;, score=0.847 total time=   0.1s\n",
      "[CV 5/6] END n_neighbors=35, p=2, weights=uniform;, score=0.843 total time=   0.0s\n",
      "[CV 6/6] END n_neighbors=35, p=2, weights=uniform;, score=0.840 total time=   0.0s\n",
      "[CV 1/6] END n_neighbors=35, p=2, weights=distance;, score=0.971 total time=   0.0s\n",
      "[CV 2/6] END n_neighbors=35, p=2, weights=distance;, score=0.973 total time=   0.0s\n",
      "[CV 3/6] END n_neighbors=35, p=2, weights=distance;, score=0.970 total time=   0.0s\n",
      "[CV 4/6] END n_neighbors=35, p=2, weights=distance;, score=0.972 total time=   0.0s\n",
      "[CV 5/6] END n_neighbors=35, p=2, weights=distance;, score=0.969 total time=   0.0s\n",
      "[CV 6/6] END n_neighbors=35, p=2, weights=distance;, score=0.962 total time=   0.0s\n",
      "[CV 1/6] END n_neighbors=40, p=1, weights=uniform;, score=0.840 total time=   0.0s\n",
      "[CV 2/6] END n_neighbors=40, p=1, weights=uniform;, score=0.844 total time=   0.0s\n",
      "[CV 3/6] END n_neighbors=40, p=1, weights=uniform;, score=0.843 total time=   0.0s\n",
      "[CV 4/6] END n_neighbors=40, p=1, weights=uniform;, score=0.845 total time=   0.1s\n",
      "[CV 5/6] END n_neighbors=40, p=1, weights=uniform;, score=0.836 total time=   0.0s\n",
      "[CV 6/6] END n_neighbors=40, p=1, weights=uniform;, score=0.836 total time=   0.0s\n",
      "[CV 1/6] END n_neighbors=40, p=1, weights=distance;, score=0.970 total time=   0.0s\n",
      "[CV 2/6] END n_neighbors=40, p=1, weights=distance;, score=0.973 total time=   0.0s\n",
      "[CV 3/6] END n_neighbors=40, p=1, weights=distance;, score=0.970 total time=   0.0s\n",
      "[CV 4/6] END n_neighbors=40, p=1, weights=distance;, score=0.972 total time=   0.0s\n",
      "[CV 5/6] END n_neighbors=40, p=1, weights=distance;, score=0.969 total time=   0.0s\n",
      "[CV 6/6] END n_neighbors=40, p=1, weights=distance;, score=0.961 total time=   0.0s\n",
      "[CV 1/6] END n_neighbors=40, p=2, weights=uniform;, score=0.840 total time=   0.0s\n",
      "[CV 2/6] END n_neighbors=40, p=2, weights=uniform;, score=0.844 total time=   0.0s\n",
      "[CV 3/6] END n_neighbors=40, p=2, weights=uniform;, score=0.843 total time=   0.0s\n",
      "[CV 4/6] END n_neighbors=40, p=2, weights=uniform;, score=0.845 total time=   0.1s\n",
      "[CV 5/6] END n_neighbors=40, p=2, weights=uniform;, score=0.836 total time=   0.0s\n",
      "[CV 6/6] END n_neighbors=40, p=2, weights=uniform;, score=0.836 total time=   0.1s\n",
      "[CV 1/6] END n_neighbors=40, p=2, weights=distance;, score=0.970 total time=   0.0s\n",
      "[CV 2/6] END n_neighbors=40, p=2, weights=distance;, score=0.973 total time=   0.0s\n",
      "[CV 3/6] END n_neighbors=40, p=2, weights=distance;, score=0.970 total time=   0.0s\n",
      "[CV 4/6] END n_neighbors=40, p=2, weights=distance;, score=0.972 total time=   0.0s\n",
      "[CV 5/6] END n_neighbors=40, p=2, weights=distance;, score=0.969 total time=   0.0s\n",
      "[CV 6/6] END n_neighbors=40, p=2, weights=distance;, score=0.961 total time=   0.0s\n",
      "[CV 1/6] END n_neighbors=45, p=1, weights=uniform;, score=0.835 total time=   0.0s\n",
      "[CV 2/6] END n_neighbors=45, p=1, weights=uniform;, score=0.835 total time=   0.0s\n",
      "[CV 3/6] END n_neighbors=45, p=1, weights=uniform;, score=0.835 total time=   0.1s\n",
      "[CV 4/6] END n_neighbors=45, p=1, weights=uniform;, score=0.840 total time=   0.1s\n",
      "[CV 5/6] END n_neighbors=45, p=1, weights=uniform;, score=0.831 total time=   0.1s\n",
      "[CV 6/6] END n_neighbors=45, p=1, weights=uniform;, score=0.834 total time=   0.0s\n",
      "[CV 1/6] END n_neighbors=45, p=1, weights=distance;, score=0.970 total time=   0.0s\n",
      "[CV 2/6] END n_neighbors=45, p=1, weights=distance;, score=0.973 total time=   0.0s\n",
      "[CV 3/6] END n_neighbors=45, p=1, weights=distance;, score=0.970 total time=   0.0s\n",
      "[CV 4/6] END n_neighbors=45, p=1, weights=distance;, score=0.972 total time=   0.0s\n",
      "[CV 5/6] END n_neighbors=45, p=1, weights=distance;, score=0.969 total time=   0.0s\n",
      "[CV 6/6] END n_neighbors=45, p=1, weights=distance;, score=0.962 total time=   0.0s\n",
      "[CV 1/6] END n_neighbors=45, p=2, weights=uniform;, score=0.835 total time=   0.0s\n",
      "[CV 2/6] END n_neighbors=45, p=2, weights=uniform;, score=0.835 total time=   0.1s\n",
      "[CV 3/6] END n_neighbors=45, p=2, weights=uniform;, score=0.835 total time=   0.1s\n",
      "[CV 4/6] END n_neighbors=45, p=2, weights=uniform;, score=0.840 total time=   0.1s\n",
      "[CV 5/6] END n_neighbors=45, p=2, weights=uniform;, score=0.831 total time=   0.0s\n",
      "[CV 6/6] END n_neighbors=45, p=2, weights=uniform;, score=0.834 total time=   0.0s\n",
      "[CV 1/6] END n_neighbors=45, p=2, weights=distance;, score=0.970 total time=   0.0s\n",
      "[CV 2/6] END n_neighbors=45, p=2, weights=distance;, score=0.973 total time=   0.0s\n",
      "[CV 3/6] END n_neighbors=45, p=2, weights=distance;, score=0.970 total time=   0.0s\n",
      "[CV 4/6] END n_neighbors=45, p=2, weights=distance;, score=0.972 total time=   0.0s\n",
      "[CV 5/6] END n_neighbors=45, p=2, weights=distance;, score=0.969 total time=   0.0s\n",
      "[CV 6/6] END n_neighbors=45, p=2, weights=distance;, score=0.962 total time=   0.0s\n"
     ]
    },
    {
     "data": {
      "text/html": [
       "<style>#sk-container-id-1 {color: black;background-color: white;}#sk-container-id-1 pre{padding: 0;}#sk-container-id-1 div.sk-toggleable {background-color: white;}#sk-container-id-1 label.sk-toggleable__label {cursor: pointer;display: block;width: 100%;margin-bottom: 0;padding: 0.3em;box-sizing: border-box;text-align: center;}#sk-container-id-1 label.sk-toggleable__label-arrow:before {content: \"▸\";float: left;margin-right: 0.25em;color: #696969;}#sk-container-id-1 label.sk-toggleable__label-arrow:hover:before {color: black;}#sk-container-id-1 div.sk-estimator:hover label.sk-toggleable__label-arrow:before {color: black;}#sk-container-id-1 div.sk-toggleable__content {max-height: 0;max-width: 0;overflow: hidden;text-align: left;background-color: #f0f8ff;}#sk-container-id-1 div.sk-toggleable__content pre {margin: 0.2em;color: black;border-radius: 0.25em;background-color: #f0f8ff;}#sk-container-id-1 input.sk-toggleable__control:checked~div.sk-toggleable__content {max-height: 200px;max-width: 100%;overflow: auto;}#sk-container-id-1 input.sk-toggleable__control:checked~label.sk-toggleable__label-arrow:before {content: \"▾\";}#sk-container-id-1 div.sk-estimator input.sk-toggleable__control:checked~label.sk-toggleable__label {background-color: #d4ebff;}#sk-container-id-1 div.sk-label input.sk-toggleable__control:checked~label.sk-toggleable__label {background-color: #d4ebff;}#sk-container-id-1 input.sk-hidden--visually {border: 0;clip: rect(1px 1px 1px 1px);clip: rect(1px, 1px, 1px, 1px);height: 1px;margin: -1px;overflow: hidden;padding: 0;position: absolute;width: 1px;}#sk-container-id-1 div.sk-estimator {font-family: monospace;background-color: #f0f8ff;border: 1px dotted black;border-radius: 0.25em;box-sizing: border-box;margin-bottom: 0.5em;}#sk-container-id-1 div.sk-estimator:hover {background-color: #d4ebff;}#sk-container-id-1 div.sk-parallel-item::after {content: \"\";width: 100%;border-bottom: 1px solid gray;flex-grow: 1;}#sk-container-id-1 div.sk-label:hover label.sk-toggleable__label {background-color: #d4ebff;}#sk-container-id-1 div.sk-serial::before {content: \"\";position: absolute;border-left: 1px solid gray;box-sizing: border-box;top: 0;bottom: 0;left: 50%;z-index: 0;}#sk-container-id-1 div.sk-serial {display: flex;flex-direction: column;align-items: center;background-color: white;padding-right: 0.2em;padding-left: 0.2em;position: relative;}#sk-container-id-1 div.sk-item {position: relative;z-index: 1;}#sk-container-id-1 div.sk-parallel {display: flex;align-items: stretch;justify-content: center;background-color: white;position: relative;}#sk-container-id-1 div.sk-item::before, #sk-container-id-1 div.sk-parallel-item::before {content: \"\";position: absolute;border-left: 1px solid gray;box-sizing: border-box;top: 0;bottom: 0;left: 50%;z-index: -1;}#sk-container-id-1 div.sk-parallel-item {display: flex;flex-direction: column;z-index: 1;position: relative;background-color: white;}#sk-container-id-1 div.sk-parallel-item:first-child::after {align-self: flex-end;width: 50%;}#sk-container-id-1 div.sk-parallel-item:last-child::after {align-self: flex-start;width: 50%;}#sk-container-id-1 div.sk-parallel-item:only-child::after {width: 0;}#sk-container-id-1 div.sk-dashed-wrapped {border: 1px dashed gray;margin: 0 0.4em 0.5em 0.4em;box-sizing: border-box;padding-bottom: 0.4em;background-color: white;}#sk-container-id-1 div.sk-label label {font-family: monospace;font-weight: bold;display: inline-block;line-height: 1.2em;}#sk-container-id-1 div.sk-label-container {text-align: center;}#sk-container-id-1 div.sk-container {/* jupyter's `normalize.less` sets `[hidden] { display: none; }` but bootstrap.min.css set `[hidden] { display: none !important; }` so we also need the `!important` here to be able to override the default hidden behavior on the sphinx rendered scikit-learn.org. See: https://github.com/scikit-learn/scikit-learn/issues/21755 */display: inline-block !important;position: relative;}#sk-container-id-1 div.sk-text-repr-fallback {display: none;}</style><div id=\"sk-container-id-1\" class=\"sk-top-container\"><div class=\"sk-text-repr-fallback\"><pre>GridSearchCV(cv=6, estimator=KNeighborsClassifier(),\n",
       "             param_grid={&#x27;n_neighbors&#x27;: range(10, 50, 5), &#x27;p&#x27;: [1, 2],\n",
       "                         &#x27;weights&#x27;: [&#x27;uniform&#x27;, &#x27;distance&#x27;]},\n",
       "             verbose=4)</pre><b>In a Jupyter environment, please rerun this cell to show the HTML representation or trust the notebook. <br />On GitHub, the HTML representation is unable to render, please try loading this page with nbviewer.org.</b></div><div class=\"sk-container\" hidden><div class=\"sk-item sk-dashed-wrapped\"><div class=\"sk-label-container\"><div class=\"sk-label sk-toggleable\"><input class=\"sk-toggleable__control sk-hidden--visually\" id=\"sk-estimator-id-1\" type=\"checkbox\" ><label for=\"sk-estimator-id-1\" class=\"sk-toggleable__label sk-toggleable__label-arrow\">GridSearchCV</label><div class=\"sk-toggleable__content\"><pre>GridSearchCV(cv=6, estimator=KNeighborsClassifier(),\n",
       "             param_grid={&#x27;n_neighbors&#x27;: range(10, 50, 5), &#x27;p&#x27;: [1, 2],\n",
       "                         &#x27;weights&#x27;: [&#x27;uniform&#x27;, &#x27;distance&#x27;]},\n",
       "             verbose=4)</pre></div></div></div><div class=\"sk-parallel\"><div class=\"sk-parallel-item\"><div class=\"sk-item\"><div class=\"sk-label-container\"><div class=\"sk-label sk-toggleable\"><input class=\"sk-toggleable__control sk-hidden--visually\" id=\"sk-estimator-id-2\" type=\"checkbox\" ><label for=\"sk-estimator-id-2\" class=\"sk-toggleable__label sk-toggleable__label-arrow\">estimator: KNeighborsClassifier</label><div class=\"sk-toggleable__content\"><pre>KNeighborsClassifier()</pre></div></div></div><div class=\"sk-serial\"><div class=\"sk-item\"><div class=\"sk-estimator sk-toggleable\"><input class=\"sk-toggleable__control sk-hidden--visually\" id=\"sk-estimator-id-3\" type=\"checkbox\" ><label for=\"sk-estimator-id-3\" class=\"sk-toggleable__label sk-toggleable__label-arrow\">KNeighborsClassifier</label><div class=\"sk-toggleable__content\"><pre>KNeighborsClassifier()</pre></div></div></div></div></div></div></div></div></div></div>"
      ],
      "text/plain": [
       "GridSearchCV(cv=6, estimator=KNeighborsClassifier(),\n",
       "             param_grid={'n_neighbors': range(10, 50, 5), 'p': [1, 2],\n",
       "                         'weights': ['uniform', 'distance']},\n",
       "             verbose=4)"
      ]
     },
     "execution_count": 22,
     "metadata": {},
     "output_type": "execute_result"
    }
   ],
   "source": [
    "from sklearn.model_selection import GridSearchCV\n",
    "\n",
    "estimator = GridSearchCV(KNeighborsClassifier(), params_grid, cv=6, verbose=4)\n",
    "estimator.fit(X_train, Y_train)"
   ]
  },
  {
   "cell_type": "code",
   "execution_count": 29,
   "id": "3c1653af",
   "metadata": {},
   "outputs": [],
   "source": [
    "Y_pred = estimator.predict(X_test)"
   ]
  },
  {
   "cell_type": "code",
   "execution_count": 23,
   "id": "fd1baa28",
   "metadata": {},
   "outputs": [
    {
     "data": {
      "text/plain": [
       "{'n_neighbors': 35, 'p': 1, 'weights': 'distance'}"
      ]
     },
     "execution_count": 23,
     "metadata": {},
     "output_type": "execute_result"
    }
   ],
   "source": [
    "# Let's see what the best parameters are based on the estimator:\n",
    "\n",
    "estimator.best_params_"
   ]
  },
  {
   "cell_type": "code",
   "execution_count": 24,
   "id": "e9be09d5",
   "metadata": {},
   "outputs": [
    {
     "data": {
      "text/plain": [
       "0.9693548548133369"
      ]
     },
     "execution_count": 24,
     "metadata": {},
     "output_type": "execute_result"
    }
   ],
   "source": [
    "# What about the best score?\n",
    "\n",
    "estimator.best_score_"
   ]
  },
  {
   "cell_type": "code",
   "execution_count": 26,
   "id": "eb247a90",
   "metadata": {},
   "outputs": [
    {
     "name": "stdout",
     "output_type": "stream",
     "text": [
      "\u001b[32mClassification report for model KNeighborsClassifier on training data\u001b[0m\n",
      "---------------------------------------------------------------------------------\n",
      "              precision    recall  f1-score   support\n",
      "\n",
      "  High-Rated       0.99      0.98      0.98      5065\n",
      "   Low-Rated       0.90      0.95      0.92      1071\n",
      "Medium-Rated       0.99      0.99      0.99     22743\n",
      "\n",
      "    accuracy                           0.99     28879\n",
      "   macro avg       0.96      0.97      0.97     28879\n",
      "weighted avg       0.99      0.99      0.99     28879\n",
      "\n"
     ]
    }
   ],
   "source": [
    "report(estimator.best_estimator_, X_train, Y_train)"
   ]
  },
  {
   "cell_type": "markdown",
   "id": "ffe0b953",
   "metadata": {},
   "source": [
    "### Classification report - train set\n",
    "\n",
    "##### Precision: \n",
    "*true positives : (true positives + false positives)*\n",
    "\n",
    "* **High-Rated class** - 99% of the predicted High-Rated instances were actually High-Rated.\n",
    "* **Medium-Rated class** - 99% of the predicted Medium-Rated instances were actually Medium-Rated.\n",
    "* **Low-Rated class** - 90% of the predicted Low-Rated instances were actually Low-Rated.\n",
    "\n",
    "##### Recall\n",
    "*true positives : (true positives + false negatives)*\n",
    "\n",
    "* **High-Rated class** - The model correctly identified 98% of the actual High-Rated instances.\n",
    "* **Medium-Rated class** - The model correctly identified 99% of the actual Medium-Rated instances.\n",
    "* **Low-Rated class** - The model correctly identified 95% of the actual Low-Rated instances.\n",
    "\n",
    "##### F1-score\n",
    "*harmonic mean of precision and recall*\n",
    "\n",
    "* **High-Rated class** - 0.98\n",
    "* **Medium-Rated class** - 0.99\n",
    "* **Low-Rated class** - 0.92\n",
    "\n",
    "##### Support\n",
    "*the number of samples or instances of each class in the test dataset*\n",
    "\n",
    "* **High-Rated class** - 5065\n",
    "* **Medium-Rated class** - 22743\n",
    "* **Low-Rated class** - 1071\n",
    "\n",
    "\n",
    "### <u> Accuracy: 99% </u>"
   ]
  },
  {
   "cell_type": "code",
   "execution_count": 27,
   "id": "c93960a9",
   "metadata": {},
   "outputs": [
    {
     "name": "stdout",
     "output_type": "stream",
     "text": [
      "\u001b[32mClassification report for model KNeighborsClassifier on test data\u001b[0m\n",
      "---------------------------------------------------------------------------------\n",
      "              precision    recall  f1-score   support\n",
      "\n",
      "  High-Rated       0.96      0.94      0.95      1764\n",
      "   Low-Rated       0.85      0.89      0.87       336\n",
      "Medium-Rated       0.98      0.98      0.98      7527\n",
      "\n",
      "    accuracy                           0.97      9627\n",
      "   macro avg       0.93      0.94      0.93      9627\n",
      "weighted avg       0.97      0.97      0.97      9627\n",
      "\n"
     ]
    }
   ],
   "source": [
    "report(estimator.best_estimator_, X_test, Y_test, \"test\")"
   ]
  },
  {
   "cell_type": "markdown",
   "id": "84ad2b72",
   "metadata": {},
   "source": [
    "### Classification report - test set\n",
    "\n",
    "##### Precision: \n",
    "*true positives : (true positives + false positives)*\n",
    "\n",
    "* **High-Rated class** - 96% of the predicted High-Rated instances were actually High-Rated.\n",
    "* **Medium-Rated class** - 98% of the predicted Medium-Rated instances were actually Medium-Rated.\n",
    "* **Low-Rated class** - 85% of the predicted Low-Rated instances were actually Low-Rated.\n",
    "\n",
    "##### Recall\n",
    "*true positives : (true positives + false negatives)*\n",
    "\n",
    "* **High-Rated class** - The model correctly identified 94% of the actual High-Rated instances.\n",
    "* **Medium-Rated class** - The model correctly identified 98% of the actual Medium-Rated instances.\n",
    "* **Low-Rated class** - The model correctly identified 89% of the actual Low-Rated instances.\n",
    "\n",
    "##### F1-score\n",
    "*harmonic mean of precision and recall*\n",
    "\n",
    "* **High-Rated class** - 0.95\n",
    "* **Medium-Rated class** - 0.98\n",
    "* **Low-Rated class** - 0.87\n",
    "\n",
    "##### Support\n",
    "*the number of samples or instances of each class in the test dataset*\n",
    "\n",
    "* **High-Rated class** - 1764\n",
    "* **Medium-Rated class** - 7527\n",
    "* **Low-Rated class** - 336\n",
    "\n",
    "\n",
    "### <u> Accuracy: 97% </u>"
   ]
  },
  {
   "cell_type": "code",
   "execution_count": 36,
   "id": "3b9c8f2f",
   "metadata": {},
   "outputs": [
    {
     "data": {
      "image/png": "[encoded data removed]",
      "text/plain": [
       "<Figure size 640x480 with 2 Axes>"
      ]
     },
     "metadata": {},
     "output_type": "display_data"
    }
   ],
   "source": [
    "from sklearn.metrics import confusion_matrix\n",
    "import seaborn as sns\n",
    "import matplotlib.pyplot as plt\n",
    "\n",
    "# Generate confusion matrix\n",
    "cm = confusion_matrix(Y_test, Y_pred)\n",
    "\n",
    "# Class labels\n",
    "labels = ['Low-Rated', 'Medium-Rated', 'High-Rated']  \n",
    "\n",
    "# Create a heatmap for the confusion matrix\n",
    "sns.heatmap(cm, annot=True, fmt='d', cmap='YlOrRd',\n",
    "            xticklabels=labels, yticklabels=labels)\n",
    "\n",
    "plt.xlabel('Predicted')\n",
    "plt.ylabel('True')\n",
    "plt.title('Confusion Matrix')\n",
    "plt.show()"
   ]
  },
  {
   "cell_type": "code",
   "execution_count": 32,
   "id": "5e87c3f1",
   "metadata": {},
   "outputs": [
    {
     "data": {
      "text/plain": [
       "array([[1661,    0,  103],\n",
       "       [   2,  299,   35],\n",
       "       [  72,   52, 7403]], dtype=int64)"
      ]
     },
     "execution_count": 32,
     "metadata": {},
     "output_type": "execute_result"
    }
   ],
   "source": [
    "cm"
   ]
  },
  {
   "cell_type": "markdown",
   "id": "c598b624",
   "metadata": {},
   "source": [
    "### Confusion matrix\n",
    "\n",
    "##### For the Low-Rated class:\n",
    "* 1661 samples were correctly predicted as Low-Rated\n",
    "* 0 samples were predicted as Medium-Rated but were actually Low-Rated\n",
    "* 103 samples were predicted as High-Rated but were actually Low-Rated\n",
    "\n",
    "##### For the Medium-Rated class:\n",
    "* 2 samples were predicted as Low-Rated but were actually Medium-Rated\n",
    "* 299 samples were correctly predicted as Medium-Rated \n",
    "* 35 samples were predicted as High-Rated but were actually Medium-Rated \n",
    "\n",
    "##### For the High-Rated class:\n",
    "* 72 samples were predicted as Low-Rated but were actually High-Rated\n",
    "* 52 samples were predicted as Medium-Rated but were actually High-Rated\n",
    "* 7403 samples were correctly predicted as High-Rated\n"
   ]
  }
 ],
 "metadata": {
  "kernelspec": {
   "display_name": "Python 3 (ipykernel)",
   "language": "python",
   "name": "python3"
  },
  "language_info": {
   "codemirror_mode": {
    "name": "ipython",
    "version": 3
   },
   "file_extension": ".py",
   "mimetype": "text/x-python",
   "name": "python",
   "nbconvert_exporter": "python",
   "pygments_lexer": "ipython3",
   "version": "3.10.1"
  }
 },
 "nbformat": 4,
 "nbformat_minor": 5
}
