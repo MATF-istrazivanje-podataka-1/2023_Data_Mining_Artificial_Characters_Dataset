{
 "cells": [
  {
   "cell_type": "markdown",
   "id": "0a5a6f1c",
   "metadata": {},
   "source": [
    "# Bagging Classifier "
   ]
  },
  {
   "cell_type": "markdown",
   "id": "862d2709",
   "metadata": {},
   "source": [
    "The bagging classifier, also known as bootstrap aggregating, is a type of ensemble learning algorithm that combines multiple decision tree models to improve the overall performance of the classification task. Bagging works by creating multiple subsets of the original training data set by randomly selecting observations with replacement, and training a separate decision tree model on each of these subsets.\n",
    "\n",
    "During the prediction phase, each decision tree model produces its own classification result, and the final classification is determined by aggregating the results of all the individual models. This aggregation can be done by taking the majority vote, where the classification with the most votes is chosen as the final prediction."
   ]
  },
  {
   "cell_type": "code",
   "execution_count": 4,
   "id": "9e2044b3",
   "metadata": {},
   "outputs": [],
   "source": [
    "# Importing the training and testing sets from the KNN file\n",
    "import pickle\n",
    "\n",
    "# Load the data from the file\n",
    "with open('data.pkl', 'rb') as f:\n",
    "    X_train, X_test, Y_train, Y_test = pickle.load(f)"
   ]
  },
  {
   "cell_type": "code",
   "execution_count": 5,
   "id": "7e190861",
   "metadata": {},
   "outputs": [],
   "source": [
    "import numpy as np\n",
    "import pandas as pd\n",
    "import matplotlib.pyplot as plt\n",
    "import os"
   ]
  },
  {
   "cell_type": "code",
   "execution_count": 6,
   "id": "5117bc4e",
   "metadata": {},
   "outputs": [],
   "source": [
    "from sklearn.neighbors import KNeighborsClassifier \n",
    "from sklearn.metrics import classification_report\n",
    "from termcolor import colored\n",
    "\n",
    "def report(model, x, y, text = \"training\"):\n",
    "    y_pred = model.predict(x)\n",
    "    \n",
    "    print(colored(\"Classification report for model {} on {} data\".format(type(model).__name__, text), \"green\"))\n",
    "    print(\"---------------------------------------------------------------------------------\")\n",
    "    print(classification_report(y, y_pred, zero_division=True))"
   ]
  },
  {
   "cell_type": "code",
   "execution_count": 9,
   "id": "36d3b541",
   "metadata": {},
   "outputs": [
    {
     "data": {
      "text/html": [
       "<style>#sk-container-id-1 {color: black;background-color: white;}#sk-container-id-1 pre{padding: 0;}#sk-container-id-1 div.sk-toggleable {background-color: white;}#sk-container-id-1 label.sk-toggleable__label {cursor: pointer;display: block;width: 100%;margin-bottom: 0;padding: 0.3em;box-sizing: border-box;text-align: center;}#sk-container-id-1 label.sk-toggleable__label-arrow:before {content: \"▸\";float: left;margin-right: 0.25em;color: #696969;}#sk-container-id-1 label.sk-toggleable__label-arrow:hover:before {color: black;}#sk-container-id-1 div.sk-estimator:hover label.sk-toggleable__label-arrow:before {color: black;}#sk-container-id-1 div.sk-toggleable__content {max-height: 0;max-width: 0;overflow: hidden;text-align: left;background-color: #f0f8ff;}#sk-container-id-1 div.sk-toggleable__content pre {margin: 0.2em;color: black;border-radius: 0.25em;background-color: #f0f8ff;}#sk-container-id-1 input.sk-toggleable__control:checked~div.sk-toggleable__content {max-height: 200px;max-width: 100%;overflow: auto;}#sk-container-id-1 input.sk-toggleable__control:checked~label.sk-toggleable__label-arrow:before {content: \"▾\";}#sk-container-id-1 div.sk-estimator input.sk-toggleable__control:checked~label.sk-toggleable__label {background-color: #d4ebff;}#sk-container-id-1 div.sk-label input.sk-toggleable__control:checked~label.sk-toggleable__label {background-color: #d4ebff;}#sk-container-id-1 input.sk-hidden--visually {border: 0;clip: rect(1px 1px 1px 1px);clip: rect(1px, 1px, 1px, 1px);height: 1px;margin: -1px;overflow: hidden;padding: 0;position: absolute;width: 1px;}#sk-container-id-1 div.sk-estimator {font-family: monospace;background-color: #f0f8ff;border: 1px dotted black;border-radius: 0.25em;box-sizing: border-box;margin-bottom: 0.5em;}#sk-container-id-1 div.sk-estimator:hover {background-color: #d4ebff;}#sk-container-id-1 div.sk-parallel-item::after {content: \"\";width: 100%;border-bottom: 1px solid gray;flex-grow: 1;}#sk-container-id-1 div.sk-label:hover label.sk-toggleable__label {background-color: #d4ebff;}#sk-container-id-1 div.sk-serial::before {content: \"\";position: absolute;border-left: 1px solid gray;box-sizing: border-box;top: 0;bottom: 0;left: 50%;z-index: 0;}#sk-container-id-1 div.sk-serial {display: flex;flex-direction: column;align-items: center;background-color: white;padding-right: 0.2em;padding-left: 0.2em;position: relative;}#sk-container-id-1 div.sk-item {position: relative;z-index: 1;}#sk-container-id-1 div.sk-parallel {display: flex;align-items: stretch;justify-content: center;background-color: white;position: relative;}#sk-container-id-1 div.sk-item::before, #sk-container-id-1 div.sk-parallel-item::before {content: \"\";position: absolute;border-left: 1px solid gray;box-sizing: border-box;top: 0;bottom: 0;left: 50%;z-index: -1;}#sk-container-id-1 div.sk-parallel-item {display: flex;flex-direction: column;z-index: 1;position: relative;background-color: white;}#sk-container-id-1 div.sk-parallel-item:first-child::after {align-self: flex-end;width: 50%;}#sk-container-id-1 div.sk-parallel-item:last-child::after {align-self: flex-start;width: 50%;}#sk-container-id-1 div.sk-parallel-item:only-child::after {width: 0;}#sk-container-id-1 div.sk-dashed-wrapped {border: 1px dashed gray;margin: 0 0.4em 0.5em 0.4em;box-sizing: border-box;padding-bottom: 0.4em;background-color: white;}#sk-container-id-1 div.sk-label label {font-family: monospace;font-weight: bold;display: inline-block;line-height: 1.2em;}#sk-container-id-1 div.sk-label-container {text-align: center;}#sk-container-id-1 div.sk-container {/* jupyter's `normalize.less` sets `[hidden] { display: none; }` but bootstrap.min.css set `[hidden] { display: none !important; }` so we also need the `!important` here to be able to override the default hidden behavior on the sphinx rendered scikit-learn.org. See: https://github.com/scikit-learn/scikit-learn/issues/21755 */display: inline-block !important;position: relative;}#sk-container-id-1 div.sk-text-repr-fallback {display: none;}</style><div id=\"sk-container-id-1\" class=\"sk-top-container\"><div class=\"sk-text-repr-fallback\"><pre>BaggingClassifier(estimator=KNeighborsClassifier(), n_estimators=20)</pre><b>In a Jupyter environment, please rerun this cell to show the HTML representation or trust the notebook. <br />On GitHub, the HTML representation is unable to render, please try loading this page with nbviewer.org.</b></div><div class=\"sk-container\" hidden><div class=\"sk-item sk-dashed-wrapped\"><div class=\"sk-label-container\"><div class=\"sk-label sk-toggleable\"><input class=\"sk-toggleable__control sk-hidden--visually\" id=\"sk-estimator-id-1\" type=\"checkbox\" ><label for=\"sk-estimator-id-1\" class=\"sk-toggleable__label sk-toggleable__label-arrow\">BaggingClassifier</label><div class=\"sk-toggleable__content\"><pre>BaggingClassifier(estimator=KNeighborsClassifier(), n_estimators=20)</pre></div></div></div><div class=\"sk-parallel\"><div class=\"sk-parallel-item\"><div class=\"sk-item\"><div class=\"sk-label-container\"><div class=\"sk-label sk-toggleable\"><input class=\"sk-toggleable__control sk-hidden--visually\" id=\"sk-estimator-id-2\" type=\"checkbox\" ><label for=\"sk-estimator-id-2\" class=\"sk-toggleable__label sk-toggleable__label-arrow\">estimator: KNeighborsClassifier</label><div class=\"sk-toggleable__content\"><pre>KNeighborsClassifier()</pre></div></div></div><div class=\"sk-serial\"><div class=\"sk-item\"><div class=\"sk-estimator sk-toggleable\"><input class=\"sk-toggleable__control sk-hidden--visually\" id=\"sk-estimator-id-3\" type=\"checkbox\" ><label for=\"sk-estimator-id-3\" class=\"sk-toggleable__label sk-toggleable__label-arrow\">KNeighborsClassifier</label><div class=\"sk-toggleable__content\"><pre>KNeighborsClassifier()</pre></div></div></div></div></div></div></div></div></div></div>"
      ],
      "text/plain": [
       "BaggingClassifier(estimator=KNeighborsClassifier(), n_estimators=20)"
      ]
     },
     "execution_count": 9,
     "metadata": {},
     "output_type": "execute_result"
    }
   ],
   "source": [
    "from sklearn.ensemble import BaggingClassifier\n",
    "\n",
    "baggingKNN = BaggingClassifier(estimator=KNeighborsClassifier(), n_estimators=20)\n",
    "baggingKNN.fit(X_train, Y_train)"
   ]
  },
  {
   "cell_type": "code",
   "execution_count": 13,
   "id": "bbaabd43",
   "metadata": {},
   "outputs": [],
   "source": [
    "Y_pred = baggingKNN.predict(X_test)"
   ]
  },
  {
   "cell_type": "code",
   "execution_count": 10,
   "id": "8f0e3af7",
   "metadata": {},
   "outputs": [
    {
     "name": "stdout",
     "output_type": "stream",
     "text": [
      "\u001b[32mClassification report for model BaggingClassifier on training data\u001b[0m\n",
      "---------------------------------------------------------------------------------\n",
      "              precision    recall  f1-score   support\n",
      "\n",
      "  High-Rated       0.92      0.87      0.89      5065\n",
      "   Low-Rated       0.84      0.86      0.85      1071\n",
      "Medium-Rated       0.96      0.98      0.97     22743\n",
      "\n",
      "    accuracy                           0.95     28879\n",
      "   macro avg       0.91      0.90      0.90     28879\n",
      "weighted avg       0.95      0.95      0.95     28879\n",
      "\n"
     ]
    }
   ],
   "source": [
    "report(baggingKNN, X_train, Y_train)"
   ]
  },
  {
   "cell_type": "markdown",
   "id": "cf8efc28",
   "metadata": {},
   "source": [
    "### Classification report - train set\n",
    "\n",
    "##### Precision: \n",
    "*true positives : (true positives + false positives)*\n",
    "\n",
    "* **High-Rated class** - 92% of the predicted High-Rated instances were actually High-Rated.\n",
    "* **Medium-Rated class** - 96% of the predicted Medium-Rated instances were actually Medium-Rated.\n",
    "* **Low-Rated class** - 84% of the predicted Low-Rated instances were actually Low-Rated.\n",
    "\n",
    "##### Recall\n",
    "*true positives : (true positives + false negatives)*\n",
    "\n",
    "* **High-Rated class** - The model correctly identified 87% of the actual High-Rated instances.\n",
    "* **Medium-Rated class** - The model correctly identified 98% of the actual Medium-Rated instances.\n",
    "* **Low-Rated class** - The model correctly identified 86% of the actual Low-Rated instances.\n",
    "\n",
    "##### F1-score\n",
    "*harmonic mean of precision and recall*\n",
    "\n",
    "* **High-Rated class** - 0.89\n",
    "* **Medium-Rated class** - 0.97\n",
    "* **Low-Rated class** - 0.85\n",
    "\n",
    "##### Support\n",
    "*the number of samples or instances of each class in the test dataset*\n",
    "\n",
    "* **High-Rated class** - 5065\n",
    "* **Medium-Rated class** - 22743\n",
    "* **Low-Rated class** - 1071\n",
    "\n",
    "\n",
    "### <u> Accuracy: 95% </u>"
   ]
  },
  {
   "cell_type": "code",
   "execution_count": 11,
   "id": "b43b377e",
   "metadata": {},
   "outputs": [
    {
     "name": "stdout",
     "output_type": "stream",
     "text": [
      "\u001b[32mClassification report for model BaggingClassifier on test data\u001b[0m\n",
      "---------------------------------------------------------------------------------\n",
      "              precision    recall  f1-score   support\n",
      "\n",
      "  High-Rated       0.85      0.81      0.83      1764\n",
      "   Low-Rated       0.74      0.81      0.77       336\n",
      "Medium-Rated       0.95      0.96      0.95      7527\n",
      "\n",
      "    accuracy                           0.92      9627\n",
      "   macro avg       0.85      0.86      0.85      9627\n",
      "weighted avg       0.92      0.92      0.92      9627\n",
      "\n"
     ]
    }
   ],
   "source": [
    "report(baggingKNN, X_test, Y_test, \"test\")"
   ]
  },
  {
   "cell_type": "markdown",
   "id": "bdab84ca",
   "metadata": {},
   "source": [
    "### Classification report - test set\n",
    "\n",
    "##### Precision: \n",
    "*true positives : (true positives + false positives)*\n",
    "\n",
    "* **High-Rated class** - 85% of the predicted High-Rated instances were actually High-Rated.\n",
    "* **Medium-Rated class** - 95% of the predicted Medium-Rated instances were actually Medium-Rated.\n",
    "* **Low-Rated class** - 74% of the predicted Low-Rated instances were actually Low-Rated.\n",
    "\n",
    "##### Recall\n",
    "*true positives : (true positives + false negatives)*\n",
    "\n",
    "* **High-Rated class** - The model correctly identified 81% of the actual High-Rated instances.\n",
    "* **Medium-Rated class** - The model correctly identified 96% of the actual Medium-Rated instances.\n",
    "* **Low-Rated class** - The model correctly identified 81% of the actual Low-Rated instances.\n",
    "\n",
    "##### F1-score\n",
    "*harmonic mean of precision and recall*\n",
    "\n",
    "* **High-Rated class** - 0.83\n",
    "* **Medium-Rated class** - 0.95\n",
    "* **Low-Rated class** - 0.77\n",
    "\n",
    "##### Support\n",
    "*the number of samples or instances of each class in the test dataset*\n",
    "\n",
    "* **High-Rated class** - 1764\n",
    "* **Medium-Rated class** - 7527\n",
    "* **Low-Rated class** - 336\n",
    "\n",
    "\n",
    "### <u> Accuracy: 92% </u>"
   ]
  },
  {
   "cell_type": "code",
   "execution_count": 14,
   "id": "6113c28e",
   "metadata": {},
   "outputs": [
    {
     "data": {
      "image/png": "[encoded data removed]",
      "text/plain": [
       "<Figure size 640x480 with 2 Axes>"
      ]
     },
     "metadata": {},
     "output_type": "display_data"
    }
   ],
   "source": [
    "from sklearn.metrics import confusion_matrix\n",
    "import seaborn as sns\n",
    "import matplotlib.pyplot as plt\n",
    "\n",
    "# Generate confusion matrix\n",
    "cm = confusion_matrix(Y_test, Y_pred)\n",
    "\n",
    "# Class labels\n",
    "labels = ['Low-Rated', 'Medium-Rated', 'High-Rated']  \n",
    "\n",
    "# Create a heatmap for the confusion matrix\n",
    "sns.heatmap(cm, annot=True, fmt='d', cmap='YlOrRd',\n",
    "            xticklabels=labels, yticklabels=labels)\n",
    "\n",
    "plt.xlabel('Predicted')\n",
    "plt.ylabel('True')\n",
    "plt.title('Confusion Matrix')\n",
    "plt.show()"
   ]
  },
  {
   "cell_type": "code",
   "execution_count": 15,
   "id": "1c180714",
   "metadata": {},
   "outputs": [
    {
     "data": {
      "text/plain": [
       "array([[1427,    2,  335],\n",
       "       [   4,  272,   60],\n",
       "       [ 243,   92, 7192]], dtype=int64)"
      ]
     },
     "execution_count": 15,
     "metadata": {},
     "output_type": "execute_result"
    }
   ],
   "source": [
    "cm"
   ]
  },
  {
   "cell_type": "markdown",
   "id": "4303fa5c",
   "metadata": {},
   "source": [
    "### Confusion matrix\n",
    "\n",
    "##### For the Low-Rated class:\n",
    "* 1427 samples were correctly predicted as Low-Rated\n",
    "* 2 sample was predicted as Medium-Rated but was actually Low-Rated\n",
    "* 335 samples were predicted as High-Rated but were actually Low-Rated\n",
    "\n",
    "##### For the Medium-Rated class:\n",
    "* 4 samples were predicted as Low-Rated but were actually Medium-Rated\n",
    "* 272 samples were correctly predicted as Medium-Rated \n",
    "* 60 samples were predicted as High-Rated but were actually Medium-Rated \n",
    "\n",
    "##### For the High-Rated class:\n",
    "* 243 samples were predicted as Low-Rated but were actually High-Rated\n",
    "* 92 samples were predicted as Medium-Rated but were actually High-Rated\n",
    "* 7192 samples were correctly predicted as High-Rated\n"
   ]
  }
 ],
 "metadata": {
  "kernelspec": {
   "display_name": "Python 3 (ipykernel)",
   "language": "python",
   "name": "python3"
  },
  "language_info": {
   "codemirror_mode": {
    "name": "ipython",
    "version": 3
   },
   "file_extension": ".py",
   "mimetype": "text/x-python",
   "name": "python",
   "nbconvert_exporter": "python",
   "pygments_lexer": "ipython3",
   "version": "3.10.1"
  }
 },
 "nbformat": 4,
 "nbformat_minor": 5
}
